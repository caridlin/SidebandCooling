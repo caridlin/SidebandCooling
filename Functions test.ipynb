{
 "cells": [
  {
   "cell_type": "code",
   "execution_count": 1,
   "metadata": {
    "collapsed": true
   },
   "outputs": [],
   "source": [
    "def _exp_annihilation(n, eta):\n",
    "    res = empty(n + 1, dtype=complex128)\n",
    "    prev = complex128(1)\n",
    "    res[n] = complex128(1)\n",
    "    for i in range(n):\n",
    "        prev *= eta * 1j / (i + 1) * sqrt(n - i)\n",
    "        res[n - i - 1] = prev\n",
    "    return res\n"
   ]
  },
  {
   "cell_type": "code",
   "execution_count": 2,
   "metadata": {
    "collapsed": true
   },
   "outputs": [],
   "source": [
    "from numpy import *"
   ]
  },
  {
   "cell_type": "code",
   "execution_count": 3,
   "metadata": {
    "collapsed": true
   },
   "outputs": [],
   "source": [
    "def sb_strength(m, n, eta):\n",
    "    eta = float64(eta)\n",
    "    size = min( m, n) + 1\n",
    "    return (_exp_annihilation(m, eta)[:size]\n",
    "            .dot(_exp_annihilation(n, eta)[:size]) *\n",
    "            exp(-eta**2 / 2))\n"
   ]
  },
  {
   "cell_type": "code",
   "execution_count": 4,
   "metadata": {
    "collapsed": true
   },
   "outputs": [],
   "source": [
    "def plot_strength(n0, dn, eta):\n",
    "    ns = r_[max(n0 - dn, 0):n0 + dn]\n",
    "    print ns\n",
    "    strengths = array([abs(sb_strength(n, n0, eta))**2 for n in ns])\n",
    "    print(n0, sum(strengths))\n",
    "    from pylab import plot\n",
    "    plot(ns, strengths, label = str((n0, dn, eta)))\n",
    "\n",
    "def main_sideband():\n",
    "    for n0 in range(0, 151, 10):\n",
    "        plot_strength(n0, 150, 1.3)\n",
    "    from pylab import legend, grid, show\n",
    "    legend()\n",
    "    grid()\n",
    "    show()\n"
   ]
  },
  {
   "cell_type": "code",
   "execution_count": 5,
   "metadata": {
    "collapsed": false
   },
   "outputs": [],
   "source": [
    "def omega_sb(N, eta):\n",
    "    res = empty((N + 1, N + 1), dtype=complex128)\n",
    "    for i in range(N + 1):\n",
    "        for j in range(N + 1):\n",
    "            res[i, j] = (sb_strength(i, j, eta))          \n",
    "    return res"
   ]
  },
  {
   "cell_type": "code",
   "execution_count": 6,
   "metadata": {
    "collapsed": false
   },
   "outputs": [
    {
     "ename": "NameError",
     "evalue": "name 'scatter_strength' is not defined",
     "output_type": "error",
     "traceback": [
      "\u001b[1;31m---------------------------------------------------------------------------\u001b[0m",
      "\u001b[1;31mNameError\u001b[0m                                 Traceback (most recent call last)",
      "\u001b[1;32m<ipython-input-6-bbb642d08191>\u001b[0m in \u001b[0;36m<module>\u001b[1;34m()\u001b[0m\n\u001b[1;32m----> 1\u001b[1;33m \u001b[1;36m1\u001b[0m\u001b[1;33m/\u001b[0m \u001b[1;33m(\u001b[0m\u001b[0msqrt\u001b[0m\u001b[1;33m(\u001b[0m\u001b[1;33m-\u001b[0m\u001b[1;36m50\u001b[0m\u001b[1;33m**\u001b[0m\u001b[1;36m2\u001b[0m \u001b[1;33m*\u001b[0m \u001b[0mabs\u001b[0m\u001b[1;33m(\u001b[0m\u001b[0msb_strength\u001b[0m\u001b[1;33m(\u001b[0m\u001b[1;36m10\u001b[0m\u001b[1;33m,\u001b[0m \u001b[1;36m8\u001b[0m\u001b[1;33m,\u001b[0m \u001b[1;36m0.2\u001b[0m\u001b[1;33m)\u001b[0m\u001b[1;33m)\u001b[0m\u001b[1;33m**\u001b[0m\u001b[1;36m2\u001b[0m \u001b[1;33m+\u001b[0m \u001b[1;33m(\u001b[0m\u001b[1;36m1\u001b[0m \u001b[1;33m/\u001b[0m \u001b[1;36m2\u001b[0m \u001b[1;33m*\u001b[0m \u001b[0mpi\u001b[0m \u001b[1;33m*\u001b[0m \u001b[1;36m7\u001b[0m \u001b[1;33m*\u001b[0m \u001b[0mabs\u001b[0m\u001b[1;33m(\u001b[0m\u001b[0mscatter_strength\u001b[0m\u001b[1;33m(\u001b[0m\u001b[1;36m8\u001b[0m\u001b[1;33m,\u001b[0m\u001b[1;36m8\u001b[0m\u001b[1;33m,\u001b[0m\u001b[1;36m8\u001b[0m\u001b[1;33m,\u001b[0m\u001b[1;36m8\u001b[0m\u001b[1;33m,\u001b[0m\u001b[1;36m0.2\u001b[0m\u001b[1;33m)\u001b[0m\u001b[1;33m)\u001b[0m\u001b[1;33m)\u001b[0m\u001b[1;33m**\u001b[0m\u001b[1;36m2\u001b[0m\u001b[1;33m)\u001b[0m\u001b[1;33m)\u001b[0m\u001b[1;33m\u001b[0m\u001b[0m\n\u001b[0m",
      "\u001b[1;31mNameError\u001b[0m: name 'scatter_strength' is not defined"
     ]
    }
   ],
   "source": [
    "1/ (sqrt(-50**2 * abs(sb_strength(10, 8, 0.2))**2 + (1 / 2 * pi * 7 * abs(scatter_strength(8,8,8,8,0.2)))**2))"
   ]
  },
  {
   "cell_type": "code",
   "execution_count": 115,
   "metadata": {
    "collapsed": false
   },
   "outputs": [
    {
     "data": {
      "text/plain": [
       "0.061214284767935244"
      ]
     },
     "execution_count": 115,
     "metadata": {},
     "output_type": "execute_result"
    }
   ],
   "source": [
    "1/ sqrt((500 * abs(sb_strength(10, 7, 0.2)))**2 + (00)**2)"
   ]
  },
  {
   "cell_type": "code",
   "execution_count": 11,
   "metadata": {
    "collapsed": false
   },
   "outputs": [],
   "source": [
    "from __future__ import division\n",
    "_step = 0.01\n",
    "_us = arange(-1, 1, _step)\n",
    "#_sum_weight = sum(_us)\n",
    "#@cache_result\n",
    "def scatter_strength(m, n, l, f, eta):\n",
    "    # return integrate.quad(lambda u: 1 /2 * (sb_strength(m, l, eta * u))* (sb_strength(f, n, eta * u).conjugate()), -1.0, 1.0)\n",
    "    return sum([1/2 * (sb_strength(m, l, eta * u))* (sb_strength( n, f, eta * u).conjugate()) * 3 /4 * (1 + u**2) for u in _us]) * _step"
   ]
  },
  {
   "cell_type": "code",
   "execution_count": 17,
   "metadata": {
    "collapsed": false
   },
   "outputs": [
    {
     "name": "stdout",
     "output_type": "stream",
     "text": [
      "(0.984214747682+0j)\n"
     ]
    }
   ],
   "source": [
    "a = scatter_strength(0,0,0,0, 0.2)\n",
    "print a"
   ]
  },
  {
   "cell_type": "code",
   "execution_count": 20,
   "metadata": {
    "collapsed": false
   },
   "outputs": [
    {
     "name": "stdout",
     "output_type": "stream",
     "text": [
      "(0.980198673307+0j)\n"
     ]
    }
   ],
   "source": [
    "a = sb_strength(0,0, 0.2)\n",
    "print a"
   ]
  },
  {
   "cell_type": "markdown",
   "metadata": {
    "collapsed": true
   },
   "source": [
    "$\\langle n \\rangle = Tr (\\rho a^+a)$\n",
    "\n",
    "or\n",
    "\n",
    "$\\langle n \\rangle = Tr_e (\\rho a^+a)$\n",
    "\n",
    "or\n",
    "\n",
    "$\\langle n \\rangle = \\frac{Tr_e (\\rho a^+a)}{Tr_e(\\rho)}$\n",
    "\n",
    "\n"
   ]
  },
  {
   "cell_type": "markdown",
   "metadata": {},
   "source": [
    "# "
   ]
  },
  {
   "cell_type": "code",
   "execution_count": null,
   "metadata": {
    "collapsed": true
   },
   "outputs": [],
   "source": []
  },
  {
   "cell_type": "code",
   "execution_count": null,
   "metadata": {
    "collapsed": true
   },
   "outputs": [],
   "source": []
  },
  {
   "cell_type": "code",
   "execution_count": null,
   "metadata": {
    "collapsed": true
   },
   "outputs": [],
   "source": []
  },
  {
   "cell_type": "code",
   "execution_count": null,
   "metadata": {
    "collapsed": true
   },
   "outputs": [],
   "source": []
  },
  {
   "cell_type": "code",
   "execution_count": null,
   "metadata": {
    "collapsed": true
   },
   "outputs": [],
   "source": []
  }
 ],
 "metadata": {
  "kernelspec": {
   "display_name": "Python 2",
   "language": "python",
   "name": "python2"
  },
  "language_info": {
   "codemirror_mode": {
    "name": "ipython",
    "version": 2
   },
   "file_extension": ".py",
   "mimetype": "text/x-python",
   "name": "python",
   "nbconvert_exporter": "python",
   "pygments_lexer": "ipython2",
   "version": "2.7.6"
  }
 },
 "nbformat": 4,
 "nbformat_minor": 0
}
