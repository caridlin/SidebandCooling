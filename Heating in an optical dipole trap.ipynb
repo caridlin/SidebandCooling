{
 "cells": [
  {
   "cell_type": "markdown",
   "metadata": {},
   "source": [
    "The total hamiltonian is (up to a constant energy shift for the ground state)\n",
    "\n",
    "$H=H^{(m)}+H^{(e)}+H^{(i)}= \\hbar \\omega_z (a^{+}a+\\frac{1}{2})$\n",
    "\n",
    "Define a heating operator due to imaging as \n",
    "\n",
    "$O = \\sum_n \\sqrt{\\frac{\\gamma_n}{n+1}} a^+_n$\n",
    "\n",
    "where $\\gamma_n$ is the probability of increasing the motional state $\\mid n \\rangle$ to $\\mid n + 1 \\rangle$ (which is position dependent and might be calculated from correlation functions)\n",
    "\n",
    "The corresponding Lindblad operator is \n",
    "\n",
    "$L^d \\rho = \\frac{1}{2}( 2 O\\rho O^+ -  O^+ O \\rho -  \\rho O^+ O )$"
   ]
  },
  {
   "cell_type": "markdown",
   "metadata": {},
   "source": [
    "$\\frac{d \\rho}{dt}=-\\frac{i}{\\hbar}[H, \\rho]+L^d \\rho$\n",
    "\n",
    "where\n",
    "\n",
    "$\\langle n \\mid [H, \\rho] \\mid m \\rangle = \\hbar \\omega_z (n-m) \\langle n \\mid \\rho \\mid m \\rangle$\n",
    "\n",
    "$\\langle n \\mid L^d \\rho \\mid m \\rangle = \\frac{1}{2} \\{2 \\sqrt{\\frac{mn \\gamma_m \\gamma_n}{(m+1)(n+1)}}\\langle n-1 \\mid \\rho\\mid m-1\\rangle- (\\gamma_n + \\gamma_m)\\langle n \\mid \\rho\\mid m\\rangle\\}$\n",
    "\n",
    "$\\frac{d \\langle n \\mid \\rho \\mid  m \\rangle}{dt} = -i \\omega_z (n-m) \\langle n \\mid \\rho \\mid m \\rangle + \\frac{1}{2} \\{2 \\sqrt{\\frac{mn \\gamma_m \\gamma_n}{(m+1)(n+1)}}\\langle n-1 \\mid \\rho\\mid m-1\\rangle- (\\gamma_n + \\gamma_m)\\langle n \\mid \\rho\\mid m\\rangle\\}$\n",
    "\n",
    "Check for preservance of trace\n",
    "\n",
    "$\\frac{d \\langle n \\mid \\rho \\mid  n \\rangle}{dt} =  \\frac{1}{2} \\{2 \\frac{n \\gamma_n}{n+1}\\langle n-1 \\mid \\rho\\mid n-1\\rangle- 2\\gamma_n \\langle n \\mid \\rho\\mid n\\rangle\\} > 0$"
   ]
  },
  {
   "cell_type": "code",
   "execution_count": null,
   "metadata": {
    "collapsed": true
   },
   "outputs": [],
   "source": []
  }
 ],
 "metadata": {
  "kernelspec": {
   "display_name": "Python 2",
   "language": "python",
   "name": "python2"
  },
  "language_info": {
   "codemirror_mode": {
    "name": "ipython",
    "version": 2
   },
   "file_extension": ".py",
   "mimetype": "text/x-python",
   "name": "python",
   "nbconvert_exporter": "python",
   "pygments_lexer": "ipython2",
   "version": "2.7.6"
  }
 },
 "nbformat": 4,
 "nbformat_minor": 0
}
