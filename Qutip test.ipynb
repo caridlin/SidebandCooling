{
 "cells": [
  {
   "cell_type": "code",
   "execution_count": 76,
   "metadata": {
    "collapsed": true
   },
   "outputs": [],
   "source": [
    "%matplotlib inline\n",
    "import matplotlib.pyplot as plt\n",
    "import numpy as np\n",
    "from IPython.display import Image"
   ]
  },
  {
   "cell_type": "code",
   "execution_count": 77,
   "metadata": {
    "collapsed": true
   },
   "outputs": [],
   "source": [
    "from qutip import *"
   ]
  },
  {
   "cell_type": "code",
   "execution_count": 14,
   "metadata": {
    "collapsed": false
   },
   "outputs": [
    {
     "data": {
      "text/latex": [
       "Quantum object: dims = [[5], [5]], shape = [5, 5], type = oper, isherm = True\\begin{equation*}\\left(\\begin{array}{*{11}c}0.328 & 0.0 & 0.0 & 0.0 & 0.0\\\\0.0 & 0.246 & 0.0 & 0.0 & 0.0\\\\0.0 & 0.0 & 0.184 & 0.0 & 0.0\\\\0.0 & 0.0 & 0.0 & 0.138 & 0.0\\\\0.0 & 0.0 & 0.0 & 0.0 & 0.104\\\\\\end{array}\\right)\\end{equation*}"
      ],
      "text/plain": [
       "Quantum object: dims = [[5], [5]], shape = [5, 5], type = oper, isherm = True\n",
       "Qobj data =\n",
       "[[ 0.32778489  0.          0.          0.          0.        ]\n",
       " [ 0.          0.24583867  0.          0.          0.        ]\n",
       " [ 0.          0.          0.184379    0.          0.        ]\n",
       " [ 0.          0.          0.          0.13828425  0.        ]\n",
       " [ 0.          0.          0.          0.          0.10371319]]"
      ]
     },
     "execution_count": 14,
     "metadata": {},
     "output_type": "execute_result"
    }
   ],
   "source": [
    "q = thermal_dm(5,3)\n",
    "q"
   ]
  },
  {
   "cell_type": "code",
   "execution_count": 12,
   "metadata": {
    "collapsed": false
   },
   "outputs": [
    {
     "data": {
      "text/plain": [
       "[[5], [5]]"
      ]
     },
     "execution_count": 12,
     "metadata": {},
     "output_type": "execute_result"
    }
   ],
   "source": [
    "# the dimension, or composite Hilbert state space structure\n",
    "q.dims"
   ]
  },
  {
   "cell_type": "code",
   "execution_count": 13,
   "metadata": {
    "collapsed": false
   },
   "outputs": [
    {
     "data": {
      "text/plain": [
       "[5, 5]"
      ]
     },
     "execution_count": 13,
     "metadata": {},
     "output_type": "execute_result"
    }
   ],
   "source": [
    "# the shape of the matrix data representation\n",
    "q.shape"
   ]
  },
  {
   "cell_type": "code",
   "execution_count": 22,
   "metadata": {
    "collapsed": false
   },
   "outputs": [
    {
     "name": "stdout",
     "output_type": "stream",
     "text": [
      "Quantum object: dims = [[5], [5]], shape = [5, 5], type = oper, isherm = True\n",
      "Qobj data =\n",
      "[[ 0.  0.  0.  0.  0.]\n",
      " [ 0.  0.  0.  0.  0.]\n",
      " [ 0.  0.  0.  0.  0.]\n",
      " [ 0.  0.  0.  0.  0.]\n",
      " [ 0.  0.  0.  0.  1.]]\n",
      "Quantum object: dims = [[5], [5]], shape = [5, 5], type = oper, isherm = True\n",
      "Qobj data =\n",
      "[[ 0.02209443  0.03218325  0.07732171  0.02857714  0.11736783]\n",
      " [ 0.03218325  0.04687885  0.11262855  0.04162611  0.17096064]\n",
      " [ 0.07732171  0.11262855  0.27059516  0.10000861  0.41074063]\n",
      " [ 0.02857714  0.04162611  0.10000861  0.03696194  0.15180463]\n",
      " [ 0.11736783  0.17096064  0.41074063  0.15180463  0.62346961]]\n"
     ]
    }
   ],
   "source": [
    "q1 = fock_dm(5,4)\n",
    "print q1\n",
    "q2 = coherent_dm(5, 2)\n",
    "print q2"
   ]
  },
  {
   "cell_type": "code",
   "execution_count": 23,
   "metadata": {
    "collapsed": false
   },
   "outputs": [
    {
     "data": {
      "text/latex": [
       "Quantum object: dims = [[2, 5], [1, 1]], shape = [10, 1], type = ket\\begin{equation*}\\left(\\begin{array}{*{11}c}1.0\\\\0.0\\\\0.0\\\\0.0\\\\0.0\\\\0.0\\\\0.0\\\\0.0\\\\0.0\\\\0.0\\\\\\end{array}\\right)\\end{equation*}"
      ],
      "text/plain": [
       "Quantum object: dims = [[2, 5], [1, 1]], shape = [10, 1], type = ket\n",
       "Qobj data =\n",
       "[[ 1.]\n",
       " [ 0.]\n",
       " [ 0.]\n",
       " [ 0.]\n",
       " [ 0.]\n",
       " [ 0.]\n",
       " [ 0.]\n",
       " [ 0.]\n",
       " [ 0.]\n",
       " [ 0.]]"
      ]
     },
     "execution_count": 23,
     "metadata": {},
     "output_type": "execute_result"
    }
   ],
   "source": [
    "tensor (basis(2,0), basis (5,0))"
   ]
  },
  {
   "cell_type": "code",
   "execution_count": 35,
   "metadata": {
    "collapsed": false
   },
   "outputs": [
    {
     "name": "stdout",
     "output_type": "stream",
     "text": [
      "Quantum object: dims = [[2], [1]], shape = [2, 1], type = ket\n",
      "Qobj data =\n",
      "[[ 0.]\n",
      " [ 1.]] Quantum object: dims = [[2], [1]], shape = [2, 1], type = ket\n",
      "Qobj data =\n",
      "[[ 1.]\n",
      " [ 0.]]\n"
     ]
    }
   ],
   "source": [
    "g = basis (2,0)\n",
    "e = basis (2,1)\n",
    "print e,g"
   ]
  },
  {
   "cell_type": "code",
   "execution_count": 28,
   "metadata": {
    "collapsed": false
   },
   "outputs": [
    {
     "data": {
      "text/latex": [
       "Quantum object: dims = [[2], [2]], shape = [2, 2], type = oper, isherm = True\\begin{equation*}\\left(\\begin{array}{*{11}c}0.0 & 1.0\\\\1.0 & 0.0\\\\\\end{array}\\right)\\end{equation*}"
      ],
      "text/plain": [
       "Quantum object: dims = [[2], [2]], shape = [2, 2], type = oper, isherm = True\n",
       "Qobj data =\n",
       "[[ 0.  1.]\n",
       " [ 1.  0.]]"
      ]
     },
     "execution_count": 28,
     "metadata": {},
     "output_type": "execute_result"
    }
   ],
   "source": [
    "sigmax()"
   ]
  },
  {
   "cell_type": "code",
   "execution_count": 32,
   "metadata": {
    "collapsed": false
   },
   "outputs": [
    {
     "data": {
      "text/latex": [
       "Quantum object: dims = [[2], [2]], shape = [2, 2], type = oper, isherm = False\\begin{equation*}\\left(\\begin{array}{*{11}c}0.0 & 1.0\\\\0.0 & 0.0\\\\\\end{array}\\right)\\end{equation*}"
      ],
      "text/plain": [
       "Quantum object: dims = [[2], [2]], shape = [2, 2], type = oper, isherm = False\n",
       "Qobj data =\n",
       "[[ 0.  1.]\n",
       " [ 0.  0.]]"
      ]
     },
     "execution_count": 32,
     "metadata": {},
     "output_type": "execute_result"
    }
   ],
   "source": [
    "a = destroy (2)\n",
    "a"
   ]
  },
  {
   "cell_type": "code",
   "execution_count": 36,
   "metadata": {
    "collapsed": false
   },
   "outputs": [
    {
     "data": {
      "text/latex": [
       "Quantum object: dims = [[2], [1]], shape = [2, 1], type = ket\\begin{equation*}\\left(\\begin{array}{*{11}c}0.0\\\\0.0\\\\\\end{array}\\right)\\end{equation*}"
      ],
      "text/plain": [
       "Quantum object: dims = [[2], [1]], shape = [2, 1], type = ket\n",
       "Qobj data =\n",
       "[[ 0.]\n",
       " [ 0.]]"
      ]
     },
     "execution_count": 36,
     "metadata": {},
     "output_type": "execute_result"
    }
   ],
   "source": [
    "a*g"
   ]
  },
  {
   "cell_type": "code",
   "execution_count": 39,
   "metadata": {
    "collapsed": false
   },
   "outputs": [
    {
     "data": {
      "text/latex": [
       "Quantum object: dims = [[2], [2]], shape = [2, 2], type = oper, isherm = False\\begin{equation*}\\left(\\begin{array}{*{11}c}0.0 & 0.0\\\\1.0 & 0.0\\\\\\end{array}\\right)\\end{equation*}"
      ],
      "text/plain": [
       "Quantum object: dims = [[2], [2]], shape = [2, 2], type = oper, isherm = False\n",
       "Qobj data =\n",
       "[[ 0.  0.]\n",
       " [ 1.  0.]]"
      ]
     },
     "execution_count": 39,
     "metadata": {},
     "output_type": "execute_result"
    }
   ],
   "source": [
    "b = create (2)\n",
    "b"
   ]
  },
  {
   "cell_type": "code",
   "execution_count": 40,
   "metadata": {
    "collapsed": false
   },
   "outputs": [
    {
     "data": {
      "text/latex": [
       "Quantum object: dims = [[2], [1]], shape = [2, 1], type = ket\\begin{equation*}\\left(\\begin{array}{*{11}c}0.0\\\\1.0\\\\\\end{array}\\right)\\end{equation*}"
      ],
      "text/plain": [
       "Quantum object: dims = [[2], [1]], shape = [2, 1], type = ket\n",
       "Qobj data =\n",
       "[[ 0.]\n",
       " [ 1.]]"
      ]
     },
     "execution_count": 40,
     "metadata": {},
     "output_type": "execute_result"
    }
   ],
   "source": [
    "b*g"
   ]
  },
  {
   "cell_type": "code",
   "execution_count": 168,
   "metadata": {
    "collapsed": false
   },
   "outputs": [],
   "source": [
    "N = 2\n",
    "delta = -1 \n",
    "omega_z = 1\n",
    "g = 0.2\n",
    "eta = 0.1\n",
    "a = tensor(identity (2), destroy (N))\n",
    "sm = tensor(destroy (2), identity (N))\n",
    "sz = tensor(sigmaz(), identity (N))"
   ]
  },
  {
   "cell_type": "code",
   "execution_count": 169,
   "metadata": {
    "collapsed": false
   },
   "outputs": [
    {
     "data": {
      "text/latex": [
       "Quantum object: dims = [[2, 2], [2, 2]], shape = [4, 4], type = oper, isherm = True\\begin{equation*}\\left(\\begin{array}{*{11}c}0.500 & 0.0 & -0.100 & 0.010j\\\\0.0 & 1.500 & 0.010j & -0.100\\\\-0.100 & -0.010j & -0.500 & 0.0\\\\-0.010j & -0.100 & 0.0 & 0.500\\\\\\end{array}\\right)\\end{equation*}"
      ],
      "text/plain": [
       "Quantum object: dims = [[2, 2], [2, 2]], shape = [4, 4], type = oper, isherm = True\n",
       "Qobj data =\n",
       "[[ 0.50000000+0.j          0.00000000+0.j         -0.09950042+0.j\n",
       "   0.00000000+0.00998334j]\n",
       " [ 0.00000000+0.j          1.50000000+0.j          0.00000000+0.00998334j\n",
       "  -0.09950042+0.j        ]\n",
       " [-0.09950042+0.j          0.00000000-0.00998334j -0.50000000+0.j\n",
       "   0.00000000+0.j        ]\n",
       " [ 0.00000000-0.00998334j -0.09950042+0.j          0.00000000+0.j\n",
       "   0.50000000+0.j        ]]"
      ]
     },
     "execution_count": 169,
     "metadata": {},
     "output_type": "execute_result"
    }
   ],
   "source": [
    "H = -0.5 * delta * sz + omega_z * (a.dag() * a )\\\n",
    "- 0.5 * g * ((-1j * eta *(a + a.dag())).expm() * sm + (1j * eta *(a + a.dag())).expm() * sm.dag())\n",
    "H"
   ]
  },
  {
   "cell_type": "code",
   "execution_count": 170,
   "metadata": {
    "collapsed": false,
    "scrolled": true
   },
   "outputs": [
    {
     "data": {
      "text/plain": [
       "[<matplotlib.lines.Line2D at 0x7f767a16f350>]"
      ]
     },
     "execution_count": 170,
     "metadata": {},
     "output_type": "execute_result"
    },
    {
     "data": {
      "image/png": "[encoded data removed]",
      "text/plain": [
       "<matplotlib.figure.Figure at 0x7f767a16f850>"
      ]
     },
     "metadata": {},
     "output_type": "display_data"
    }
   ],
   "source": [
    "#from math import sqrt\n",
    "gamma = 0.5\n",
    "g = basis (2,0)\n",
    "e = basis (2,1)\n",
    "q = fock_dm (N,N-1)\n",
    "psi0 = tensor (e, q)\n",
    "#print psi0\n",
    "#print  (sm.dag() * sm * psi0).ptrace()\n",
    "#sx = tensor(sigmax(), identity (N))\n",
    "times = np.arange (0.0, 10.0, 0.0001)\n",
    "\n",
    "\n",
    "c_op_list = []\n",
    "step = 0.001\n",
    "us = np.arange (-1, 1, step)\n",
    "for u in us:\n",
    "    c_op_list.append(np.sqrt(gamma * step * (1 + u**2) *0.75) * sm * (1j * eta * u *(a + a.dag())).expm())\n",
    "    \n",
    "#c_op_list\n",
    "result = mesolve(H, psi0, times, c_op_list, [sm.dag() * sm, a.dag() * a])\n",
    "plt.plot(times, result.expect[0])\n",
    "plt.plot(times, result.expect[1])"
   ]
  },
  {
   "cell_type": "code",
   "execution_count": 146,
   "metadata": {
    "collapsed": false,
    "scrolled": true
   },
   "outputs": [
    {
     "data": {
      "text/latex": [
       "Quantum object: dims = [[2, 5], [1, 5]], shape = [10, 5], type = other\\begin{equation*}\\left(\\begin{array}{*{11}c}0.0 & 0.0 & 0.0 & 0.0 & 0.0\\\\0.0 & 0.0 & 0.0 & 0.0 & 0.0\\\\0.0 & 0.0 & 1.0 & 0.0 & 0.0\\\\0.0 & 0.0 & 0.0 & 0.0 & 0.0\\\\0.0 & 0.0 & 0.0 & 0.0 & 0.0\\\\0.0 & 0.0 & 0.0 & 0.0 & 0.0\\\\0.0 & 0.0 & 0.0 & 0.0 & 0.0\\\\0.0 & 0.0 & 0.0 & 0.0 & 0.0\\\\0.0 & 0.0 & 0.0 & 0.0 & 0.0\\\\0.0 & 0.0 & 0.0 & 0.0 & 0.0\\\\\\end{array}\\right)\\end{equation*}"
      ],
      "text/plain": [
       "Quantum object: dims = [[2, 5], [1, 5]], shape = [10, 5], type = other\n",
       "Qobj data =\n",
       "[[ 0.  0.  0.  0.  0.]\n",
       " [ 0.  0.  0.  0.  0.]\n",
       " [ 0.  0.  1.  0.  0.]\n",
       " [ 0.  0.  0.  0.  0.]\n",
       " [ 0.  0.  0.  0.  0.]\n",
       " [ 0.  0.  0.  0.  0.]\n",
       " [ 0.  0.  0.  0.  0.]\n",
       " [ 0.  0.  0.  0.  0.]\n",
       " [ 0.  0.  0.  0.  0.]\n",
       " [ 0.  0.  0.  0.  0.]]"
      ]
     },
     "execution_count": 146,
     "metadata": {},
     "output_type": "execute_result"
    }
   ],
   "source": [
    "# Kernel always die :-)\n",
    "#from math import sqrt\n",
    "gamma = 0.5\n",
    "g = basis (2,0)\n",
    "e = basis (2,1)\n",
    "q = fock_dm (5,2)\n",
    "psi0 = tensor (g, q)\n",
    "psi0"
   ]
  },
  {
   "cell_type": "code",
   "execution_count": 43,
   "metadata": {
    "collapsed": false
   },
   "outputs": [
    {
     "data": {
      "text/plain": [
       "array([-1.        , -0.97979798, -0.95959596, -0.93939394, -0.91919192,\n",
       "       -0.8989899 , -0.87878788, -0.85858586, -0.83838384, -0.81818182,\n",
       "       -0.7979798 , -0.77777778, -0.75757576, -0.73737374, -0.71717172,\n",
       "       -0.6969697 , -0.67676768, -0.65656566, -0.63636364, -0.61616162,\n",
       "       -0.5959596 , -0.57575758, -0.55555556, -0.53535354, -0.51515152,\n",
       "       -0.49494949, -0.47474747, -0.45454545, -0.43434343, -0.41414141,\n",
       "       -0.39393939, -0.37373737, -0.35353535, -0.33333333, -0.31313131,\n",
       "       -0.29292929, -0.27272727, -0.25252525, -0.23232323, -0.21212121,\n",
       "       -0.19191919, -0.17171717, -0.15151515, -0.13131313, -0.11111111,\n",
       "       -0.09090909, -0.07070707, -0.05050505, -0.03030303, -0.01010101,\n",
       "        0.01010101,  0.03030303,  0.05050505,  0.07070707,  0.09090909,\n",
       "        0.11111111,  0.13131313,  0.15151515,  0.17171717,  0.19191919,\n",
       "        0.21212121,  0.23232323,  0.25252525,  0.27272727,  0.29292929,\n",
       "        0.31313131,  0.33333333,  0.35353535,  0.37373737,  0.39393939,\n",
       "        0.41414141,  0.43434343,  0.45454545,  0.47474747,  0.49494949,\n",
       "        0.51515152,  0.53535354,  0.55555556,  0.57575758,  0.5959596 ,\n",
       "        0.61616162,  0.63636364,  0.65656566,  0.67676768,  0.6969697 ,\n",
       "        0.71717172,  0.73737374,  0.75757576,  0.77777778,  0.7979798 ,\n",
       "        0.81818182,  0.83838384,  0.85858586,  0.87878788,  0.8989899 ,\n",
       "        0.91919192,  0.93939394,  0.95959596,  0.97979798,  1.        ])"
      ]
     },
     "execution_count": 43,
     "metadata": {},
     "output_type": "execute_result"
    }
   ],
   "source": [
    "np.r_[-1: 1: 100j]"
   ]
  },
  {
   "cell_type": "code",
   "execution_count": 41,
   "metadata": {
    "collapsed": false
   },
   "outputs": [
    {
     "data": {
      "text/plain": [
       "0.020202020202020204"
      ]
     },
     "execution_count": 41,
     "metadata": {},
     "output_type": "execute_result"
    }
   ],
   "source": [
    "2.0/99"
   ]
  },
  {
   "cell_type": "code",
   "execution_count": 40,
   "metadata": {
    "collapsed": false
   },
   "outputs": [
    {
     "data": {
      "text/plain": [
       "0.020202020000000043"
      ]
     },
     "execution_count": 40,
     "metadata": {},
     "output_type": "execute_result"
    }
   ],
   "source": [
    "1-0.97979798"
   ]
  },
  {
   "cell_type": "code",
   "execution_count": 49,
   "metadata": {
    "collapsed": false
   },
   "outputs": [
    {
     "data": {
      "text/plain": [
       "array([-1.        , -0.97979798, -0.95959596, -0.93939394, -0.91919192,\n",
       "       -0.8989899 , -0.87878788, -0.85858586, -0.83838384, -0.81818182,\n",
       "       -0.7979798 , -0.77777778, -0.75757576, -0.73737374, -0.71717172,\n",
       "       -0.6969697 , -0.67676768, -0.65656566, -0.63636364, -0.61616162,\n",
       "       -0.5959596 , -0.57575758, -0.55555556, -0.53535354, -0.51515152,\n",
       "       -0.49494949, -0.47474747, -0.45454545, -0.43434343, -0.41414141,\n",
       "       -0.39393939, -0.37373737, -0.35353535, -0.33333333, -0.31313131,\n",
       "       -0.29292929, -0.27272727, -0.25252525, -0.23232323, -0.21212121,\n",
       "       -0.19191919, -0.17171717, -0.15151515, -0.13131313, -0.11111111,\n",
       "       -0.09090909, -0.07070707, -0.05050505, -0.03030303, -0.01010101,\n",
       "        0.01010101,  0.03030303,  0.05050505,  0.07070707,  0.09090909,\n",
       "        0.11111111,  0.13131313,  0.15151515,  0.17171717,  0.19191919,\n",
       "        0.21212121,  0.23232323,  0.25252525,  0.27272727,  0.29292929,\n",
       "        0.31313131,  0.33333333,  0.35353535,  0.37373737,  0.39393939,\n",
       "        0.41414141,  0.43434343,  0.45454545,  0.47474747,  0.49494949,\n",
       "        0.51515152,  0.53535354,  0.55555556,  0.57575758,  0.5959596 ,\n",
       "        0.61616162,  0.63636364,  0.65656566,  0.67676768,  0.6969697 ,\n",
       "        0.71717172,  0.73737374,  0.75757576,  0.77777778,  0.7979798 ,\n",
       "        0.81818182,  0.83838384,  0.85858586,  0.87878788,  0.8989899 ,\n",
       "        0.91919192,  0.93939394,  0.95959596,  0.97979798,  1.        ])"
      ]
     },
     "execution_count": 49,
     "metadata": {},
     "output_type": "execute_result"
    }
   ],
   "source": [
    "a = np.r_[-1: 1: 100j]\n",
    "a"
   ]
  },
  {
   "cell_type": "code",
   "execution_count": 53,
   "metadata": {
    "collapsed": false
   },
   "outputs": [
    {
     "data": {
      "text/plain": [
       "array([ -1.00000000e+00,  -9.90000000e-01,  -9.80000000e-01,\n",
       "        -9.70000000e-01,  -9.60000000e-01,  -9.50000000e-01,\n",
       "        -9.40000000e-01,  -9.30000000e-01,  -9.20000000e-01,\n",
       "        -9.10000000e-01,  -9.00000000e-01,  -8.90000000e-01,\n",
       "        -8.80000000e-01,  -8.70000000e-01,  -8.60000000e-01,\n",
       "        -8.50000000e-01,  -8.40000000e-01,  -8.30000000e-01,\n",
       "        -8.20000000e-01,  -8.10000000e-01,  -8.00000000e-01,\n",
       "        -7.90000000e-01,  -7.80000000e-01,  -7.70000000e-01,\n",
       "        -7.60000000e-01,  -7.50000000e-01,  -7.40000000e-01,\n",
       "        -7.30000000e-01,  -7.20000000e-01,  -7.10000000e-01,\n",
       "        -7.00000000e-01,  -6.90000000e-01,  -6.80000000e-01,\n",
       "        -6.70000000e-01,  -6.60000000e-01,  -6.50000000e-01,\n",
       "        -6.40000000e-01,  -6.30000000e-01,  -6.20000000e-01,\n",
       "        -6.10000000e-01,  -6.00000000e-01,  -5.90000000e-01,\n",
       "        -5.80000000e-01,  -5.70000000e-01,  -5.60000000e-01,\n",
       "        -5.50000000e-01,  -5.40000000e-01,  -5.30000000e-01,\n",
       "        -5.20000000e-01,  -5.10000000e-01,  -5.00000000e-01,\n",
       "        -4.90000000e-01,  -4.80000000e-01,  -4.70000000e-01,\n",
       "        -4.60000000e-01,  -4.50000000e-01,  -4.40000000e-01,\n",
       "        -4.30000000e-01,  -4.20000000e-01,  -4.10000000e-01,\n",
       "        -4.00000000e-01,  -3.90000000e-01,  -3.80000000e-01,\n",
       "        -3.70000000e-01,  -3.60000000e-01,  -3.50000000e-01,\n",
       "        -3.40000000e-01,  -3.30000000e-01,  -3.20000000e-01,\n",
       "        -3.10000000e-01,  -3.00000000e-01,  -2.90000000e-01,\n",
       "        -2.80000000e-01,  -2.70000000e-01,  -2.60000000e-01,\n",
       "        -2.50000000e-01,  -2.40000000e-01,  -2.30000000e-01,\n",
       "        -2.20000000e-01,  -2.10000000e-01,  -2.00000000e-01,\n",
       "        -1.90000000e-01,  -1.80000000e-01,  -1.70000000e-01,\n",
       "        -1.60000000e-01,  -1.50000000e-01,  -1.40000000e-01,\n",
       "        -1.30000000e-01,  -1.20000000e-01,  -1.10000000e-01,\n",
       "        -1.00000000e-01,  -9.00000000e-02,  -8.00000000e-02,\n",
       "        -7.00000000e-02,  -6.00000000e-02,  -5.00000000e-02,\n",
       "        -4.00000000e-02,  -3.00000000e-02,  -2.00000000e-02,\n",
       "        -1.00000000e-02,   8.88178420e-16,   1.00000000e-02,\n",
       "         2.00000000e-02,   3.00000000e-02,   4.00000000e-02,\n",
       "         5.00000000e-02,   6.00000000e-02,   7.00000000e-02,\n",
       "         8.00000000e-02,   9.00000000e-02,   1.00000000e-01,\n",
       "         1.10000000e-01,   1.20000000e-01,   1.30000000e-01,\n",
       "         1.40000000e-01,   1.50000000e-01,   1.60000000e-01,\n",
       "         1.70000000e-01,   1.80000000e-01,   1.90000000e-01,\n",
       "         2.00000000e-01,   2.10000000e-01,   2.20000000e-01,\n",
       "         2.30000000e-01,   2.40000000e-01,   2.50000000e-01,\n",
       "         2.60000000e-01,   2.70000000e-01,   2.80000000e-01,\n",
       "         2.90000000e-01,   3.00000000e-01,   3.10000000e-01,\n",
       "         3.20000000e-01,   3.30000000e-01,   3.40000000e-01,\n",
       "         3.50000000e-01,   3.60000000e-01,   3.70000000e-01,\n",
       "         3.80000000e-01,   3.90000000e-01,   4.00000000e-01,\n",
       "         4.10000000e-01,   4.20000000e-01,   4.30000000e-01,\n",
       "         4.40000000e-01,   4.50000000e-01,   4.60000000e-01,\n",
       "         4.70000000e-01,   4.80000000e-01,   4.90000000e-01,\n",
       "         5.00000000e-01,   5.10000000e-01,   5.20000000e-01,\n",
       "         5.30000000e-01,   5.40000000e-01,   5.50000000e-01,\n",
       "         5.60000000e-01,   5.70000000e-01,   5.80000000e-01,\n",
       "         5.90000000e-01,   6.00000000e-01,   6.10000000e-01,\n",
       "         6.20000000e-01,   6.30000000e-01,   6.40000000e-01,\n",
       "         6.50000000e-01,   6.60000000e-01,   6.70000000e-01,\n",
       "         6.80000000e-01,   6.90000000e-01,   7.00000000e-01,\n",
       "         7.10000000e-01,   7.20000000e-01,   7.30000000e-01,\n",
       "         7.40000000e-01,   7.50000000e-01,   7.60000000e-01,\n",
       "         7.70000000e-01,   7.80000000e-01,   7.90000000e-01,\n",
       "         8.00000000e-01,   8.10000000e-01,   8.20000000e-01,\n",
       "         8.30000000e-01,   8.40000000e-01,   8.50000000e-01,\n",
       "         8.60000000e-01,   8.70000000e-01,   8.80000000e-01,\n",
       "         8.90000000e-01,   9.00000000e-01,   9.10000000e-01,\n",
       "         9.20000000e-01,   9.30000000e-01,   9.40000000e-01,\n",
       "         9.50000000e-01,   9.60000000e-01,   9.70000000e-01,\n",
       "         9.80000000e-01,   9.90000000e-01])"
      ]
     },
     "execution_count": 53,
     "metadata": {},
     "output_type": "execute_result"
    }
   ],
   "source": [
    "np.arange(-1,1,0.01)"
   ]
  },
  {
   "cell_type": "code",
   "execution_count": 65,
   "metadata": {
    "collapsed": false
   },
   "outputs": [
    {
     "name": "stdout",
     "output_type": "stream",
     "text": [
      "[[ 0.+0.j  0.+0.j  0.+0.j  0.+0.j  0.+0.j]\n",
      " [ 0.+0.j  0.+0.j  0.+0.j  0.+0.j  0.+0.j]\n",
      " [ 0.+0.j  0.+0.j  0.+0.j  0.+0.j  0.+0.j]\n",
      " [ 0.+0.j  0.+0.j  0.+0.j  1.+0.j  0.+0.j]\n",
      " [ 0.+0.j  0.+0.j  0.+0.j  0.+0.j  0.+0.j]]\n"
     ]
    }
   ],
   "source": [
    "from numpy import *\n",
    "ps0 = zeros(5, dtype=complex128)\n",
    "ps0[3] = 1\n",
    "rho0_gg = diag(r_[ps0])\n",
    "rho0_ee = zeros_like(rho0_gg)\n",
    "rho0_ge = zeros_like(rho0_gg)\n",
    "rho0 = array([rho0_gg, rho0_ee, rho0_ge])\n",
    "print rho0_gg"
   ]
  },
  {
   "cell_type": "code",
   "execution_count": 68,
   "metadata": {
    "collapsed": false
   },
   "outputs": [
    {
     "name": "stdout",
     "output_type": "stream",
     "text": [
      "3.0\n"
     ]
    }
   ],
   "source": [
    "ps = diag(rho0_gg)\n",
    "n, =  ps.shape\n",
    "print abs(ps.dot(r_[arange(n)]))"
   ]
  },
  {
   "cell_type": "code",
   "execution_count": null,
   "metadata": {
    "collapsed": true
   },
   "outputs": [],
   "source": []
  }
 ],
 "metadata": {
  "kernelspec": {
   "display_name": "Python 2",
   "language": "python",
   "name": "python2"
  },
  "language_info": {
   "codemirror_mode": {
    "name": "ipython",
    "version": 2
   },
   "file_extension": ".py",
   "mimetype": "text/x-python",
   "name": "python",
   "nbconvert_exporter": "python",
   "pygments_lexer": "ipython2",
   "version": "2.7.6"
  }
 },
 "nbformat": 4,
 "nbformat_minor": 0
}
