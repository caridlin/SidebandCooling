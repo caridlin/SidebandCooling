{
 "cells": [
  {
   "cell_type": "markdown",
   "metadata": {},
   "source": [
    "# Theorem"
   ]
  },
  {
   "cell_type": "markdown",
   "metadata": {},
   "source": [
    "For strongly confined atoms and suitable em fields, the coupling of the fields and the internal levels of the atom is formally equivalent to the Jaynes-Cummings Hamiltonian."
   ]
  },
  {
   "cell_type": "markdown",
   "metadata": {},
   "source": [
    "The full hamiltonian of the system (laser + atom) is\n",
    "\n",
    "$H=H^{(m)}+H^{(e)}+H^{(i)}$\n",
    "\n",
    "where $H^{(m)}$ is the motional hamiltonian, $H^{(e)}$ describes the internal electronic level structure of the atom, $H^{(i)}$ is the interactions between the laser and the atom."
   ]
  },
  {
   "cell_type": "markdown",
   "metadata": {},
   "source": [
    "# Motional hamiltonian"
   ]
  },
  {
   "cell_type": "markdown",
   "metadata": {},
   "source": [
    "Consider the 1d case (along $z$). Ignore motion along the lattice radial direction (which should be a Gaussian), optical lattice potential formed by retroreflected laser beams is (large detuned case)\n",
    "\n",
    "$H^{(m)}=\\frac{p^2}{2m}-U_0 cos^2(k_Lz)=\\frac{p^2}{2m}-U_0 (1-k_L^2z^2+\\frac{1}{3}k_L^4z^4-\\frac{2}{45}k_L^6z^6+...)$\n",
    "\n",
    "where $z,p$ should be regarded as operators $z=\\frac{z_0}{\\sqrt{2}}(a+a^{+}), p=\\frac{ip_0}{\\sqrt{2}}(a^{+}-a)$.\n",
    "\n",
    "$z_0=\\sqrt{\\frac{\\hbar}{m\\omega_z}}, p_0=\\sqrt{m\\hbar \\omega_z}, \\omega_z=\\sqrt{\\frac{2U_0}{m}}$\n",
    "\n",
    "The corresponding $H^{(m)}$ is (ignore offset $-U_0$)\n",
    "\n",
    "$H^{(m)}=\\hbar \\omega_z (a^{+}a+\\frac{1}{2})-\\frac{1}{12}\\hbar \\omega_z \\eta^2_{L} (a+a^{+})^4 +\\frac{1}{90}\\hbar \\omega_z \\eta^4_{L} (a+a^{+})^6+... $\n",
    "\n",
    "where $\\eta_{L}=\\frac{k_Lz_0}{\\sqrt{2}}=\\sqrt{\\frac{E_{R,L}}{\\hbar \\omega_z}}$ is the lattice Lamb-Dicke parameter, $E_{R,L}=\\frac{\\hbar^2 k_L^2}{2m}$ is the recoil energy of the lattice.\n",
    "\n"
   ]
  },
  {
   "cell_type": "markdown",
   "metadata": {},
   "source": [
    "In the lattice Lamb-Dicke regime, $\\eta_L \\ll1$,\n",
    "\n",
    "$H^{(m)}= \\hbar \\omega_z (a^{+}a+\\frac{1}{2})$ is a harmonic trap. $a$ and $a^+$ are the usual annihilattion and creation operators:\n",
    "\n",
    "$a\\mid n\\rangle=\\sqrt{n}\\mid n-1 \\rangle$\n",
    "\n",
    "$a^+\\mid n\\rangle=\\sqrt{n+1}\\mid n+1\\rangle$"
   ]
  },
  {
   "cell_type": "markdown",
   "metadata": {},
   "source": [
    "# Internal hamiltonian"
   ]
  },
  {
   "cell_type": "markdown",
   "metadata": {},
   "source": [
    "Assume a two-level system with levels $\\mid g\\rangle$ and $\\mid e\\rangle$ and an energy difference $\\hbar \\omega=\\hbar(\\omega_e-\\omega_g)$\n",
    "\n",
    "$H^{(e)}=\\hbar \\omega_g \\mid g\\rangle\\langle g\\mid + \\hbar\\omega_e \\mid e\\rangle\\langle e \\ \\mid$\n",
    "\n",
    "Or use Pauli matrices (ignore offset $-\\frac{\\hbar}{2}(\\omega_e+\\omega_g)$),\n",
    "\n",
    "$H^{(e)}=\\hbar \\frac{\\omega}{2} \\sigma_z$\n",
    "\n",
    "where $\\sigma_z=\\mid g\\rangle\\langle g\\mid - \\mid e\\rangle\\langle e \\ \\mid$"
   ]
  },
  {
   "cell_type": "markdown",
   "metadata": {},
   "source": [
    "# Interaction hamiltonian"
   ]
  },
  {
   "cell_type": "markdown",
   "metadata": {},
   "source": [
    "### General formalism"
   ]
  },
  {
   "cell_type": "markdown",
   "metadata": {},
   "source": [
    "For the most common three types of transitions, ie, electric dipole, electric quadrupole and stimulated Raman transitions,\n",
    "\n",
    "$H^{(i)}=\\frac{\\hbar \\Omega}{2} (\\mid g\\rangle\\langle e\\mid+\\mid e\\rangle\\langle g\\mid)(e^{i(k_Cz-\\omega_C t+\\phi)}+e^{-i(k_Cz-\\omega_C t+\\phi)})$\n",
    "\n",
    "where $\\Omega, k_C , \\omega_C$ are the effective parameters of the laser for all three types of transitions. $k_C$ lies along $z$ axis. The em fields are treated classically.\n",
    "\n",
    "Or use Pauli matrices,\n",
    "\n",
    "$H^{(i)}=\\frac{\\hbar \\Omega}{2} (\\sigma_{+} +\\sigma_{-})(e^{i(k_Cz-\\omega_C t+\\phi)}+e^{-i(k_Cz-\\omega_C t+\\phi)})$\n",
    "\n",
    "where $\\sigma_{+}=\\frac{1}{2}(\\sigma_x+i\\sigma_y),\\sigma_{-}=\\frac{1}{2}(\\sigma_x-i\\sigma_y) $"
   ]
  },
  {
   "cell_type": "markdown",
   "metadata": {},
   "source": [
    "Transform into the interaction picture (rotating axis), the unperturbed hamiltonian is \n",
    "\n",
    "$H_0 = H^{(m)}+H^{(e)}$\n",
    "\n",
    "$U_0=e^{-\\frac{i}{\\hbar} H_0 t}$\n",
    "\n",
    "The transformed interaction hamiltonian is \n",
    "\n",
    "$H_{int}^I=U_0^+ H^{(i)} U_0=\\frac{\\hbar \\Omega}{2}e^{\\frac{i}{\\hbar} H^{(e)} t } (\\sigma_{+} +\\sigma_{-})e^{-\\frac{i}{\\hbar} H^{(e)} t }e^{\\frac{i}{\\hbar} H^{(m)} t } (e^{i(k_Cz-\\omega_C t+\\phi)}+e^{-i(k_Cz-\\omega_C t+\\phi)})e^{-\\frac{i}{\\hbar} H^{(m)} t }$\n",
    "\n",
    "Or use Baker–Campbell–Hausdorff formula\n",
    "\n",
    "$H_{int}^I=\\frac{\\hbar \\Omega}{2} (\\sigma_{+}e^{i \\omega t } +\\sigma_{-}e^{-i \\omega t })e^{\\frac{i}{\\hbar} H^{(m)} t }(e^{i(k_Cz-\\omega_C t+\\phi)}+e^{-i(k_Cz-\\omega_C t+\\phi)})e^{-\\frac{i}{\\hbar} H^{(m)} t }$"
   ]
  },
  {
   "cell_type": "markdown",
   "metadata": {},
   "source": [
    "Rotating wave approximation\n",
    "\n",
    "$H_{int}^I=\\frac{\\hbar \\Omega}{2} e^{\\frac{i}{\\hbar} H^{(m)} t }(\\sigma_{+} e^{i(k_Cz-\\delta t+\\phi)}+h.c.) e^{-\\frac{i}{\\hbar} H^{(m)} t }$\n",
    "\n",
    "where $\\delta=\\omega_C-\\omega$ is the detuning.\n",
    "\n",
    "Define $\\eta=\\frac{k_C z_0}{\\sqrt{2}}=\\sqrt{\\frac{E_{R,C}}{\\hbar \\omega_z}}=\\frac{k_C}{k_L}\\eta_L$ is the usual Lamb-Dicke parameter, $E_{R,C}=\\frac{\\hbar^2 k_C^2}{2m}$ is the recoil energy of the laser.\n",
    "\n",
    "\n",
    "$H_{int}^I=\\frac{\\hbar \\Omega}{2} e^{\\frac{i}{\\hbar} H^{(m)} t }(\\sigma_{+} e^{i \\eta (a+a^+)}e^{i(-\\delta t+\\phi)}+h.c.) e^{-\\frac{i}{\\hbar} H^{(m)} t }=\\frac{\\hbar \\Omega}{2} \\sigma_{+} e^{i \\eta (a_{H}+a_{H}^+)}e^{i(-\\delta t+\\phi)}+h.c.=\\frac{\\hbar \\Omega}{2} \\sigma_{+} e^{i \\eta (a e^{-i\\omega_zt}+a^+ e^{i\\omega_zt})}e^{i(-\\delta t+\\phi)}+h.c.$\n",
    "\n",
    "where $a_H=e^{-i\\omega_zt}a$, $a_H^+=e^{i\\omega_zt}a^+$ are the annhilation and creation operators in the Heisenberg picture (for the unperturbed motional hamiltonian)."
   ]
  },
  {
   "cell_type": "markdown",
   "metadata": {},
   "source": [
    "### Coupling of sidebands"
   ]
  },
  {
   "cell_type": "markdown",
   "metadata": {},
   "source": [
    "Expand the above equation for $H_{int}^I$ in terms of $\\eta$. The term containing $\\eta ^{l+m}$ with $l$ $a$ operators and $m$  $a^+$ operators rotates with a frequency $(l-m) \\omega_z$.\n",
    "\n",
    "\n",
    "If the detuning $\\delta$ matches states $\\mid g \\rangle \\mid n \\rangle $ and $\\mid e \\rangle \\mid n+s \\rangle $, i.e, $(l-m) \\omega_z = s \\omega_z$. These two states are in resonance.\n",
    "\n",
    "Effective coupling ($\\mid s\\mid$ sideband Rabi frequency) $\\Omega_{n, n+s}=\\Omega_{n+s, n}$\n",
    "\n",
    "(Illustration from Nicholson phd thesis or Wineland 1979)"
   ]
  },
  {
   "cell_type": "markdown",
   "metadata": {},
   "source": [
    "### Lamb-Dicke regime"
   ]
  },
  {
   "cell_type": "markdown",
   "metadata": {},
   "source": [
    "Lamd-Dicke regime: the atom is fully confied within the harmonic trap such that its extension of the wave function is much smaller than the transition wavelength, \n",
    "\n",
    "i.e, $\\eta \\ll 1$ and $\\eta \\sqrt{\\langle(a_H+a_H^+)^2 \\rangle}\\ll 1$ in all times. \n",
    "\n",
    "In this case:\n",
    "\n",
    "$H_{int}^I=\\frac{\\hbar \\Omega}{2} \\sigma_{+} (1+ i\\eta a e^{-i\\omega_z t}+ i \\eta a^+e^{i\\omega_z t})e^{i(-\\delta t+\\phi)}+h.c.$\n",
    "\n",
    "\n",
    "It only contains three resonances!\n",
    "\n",
    "$\\delta=0$ carrier resonance $H_{car}=\\frac{\\hbar \\Omega}{2} (\\sigma_{+} e^{i\\phi}+\\sigma_{-} e^{-i\\phi})$. This transition will not affect the motional state.\n",
    "\n",
    "$\\delta=-\\omega_z$ first red sideband $H_{rsb}=\\frac{\\hbar \\Omega}{2} \\eta (a\\sigma_{+} e^{i\\phi}+a^+\\sigma_{-} e^{-i\\phi})$.\n",
    "\n",
    "$\\delta=\\omega_z$ first blue sideband $H_{bsb}=\\frac{\\hbar \\Omega}{2} \\eta (a^+\\sigma_{+} e^{i\\phi}+a\\sigma_{-} e^{-i\\phi})$.\n",
    "\n",
    "<img src=\"files/MotionalTransitions.png\", width=600>\n",
    "\n",
    "(Illustration from Boyd phd thesis)\n"
   ]
  },
  {
   "cell_type": "markdown",
   "metadata": {},
   "source": [
    "Back to the Schrodinger picture\n",
    "\n",
    "$H_{int}=\\frac{\\hbar \\Omega}{2}\\sigma_{+} e^{i \\eta (a+a^+)} e^{i(-\\omega_C t+\\phi)}+h.c.$\n",
    "\n"
   ]
  },
  {
   "cell_type": "markdown",
   "metadata": {},
   "source": [
    "Lamd-Dicke regime: the atom is fully confied within the harmonic trap such that its extension of the wave function is much smaller than the transition wavelength, \n",
    "\n",
    "i.e, $\\eta \\ll 1$ and $\\eta \\sqrt{\\langle(a+a^+)^2 \\rangle}\\ll 1$ in all times. \n",
    "\n",
    "In this case:"
   ]
  },
  {
   "cell_type": "markdown",
   "metadata": {},
   "source": [
    "# Ths"
   ]
  },
  {
   "cell_type": "markdown",
   "metadata": {},
   "source": [
    "### head"
   ]
  },
  {
   "cell_type": "code",
   "execution_count": null,
   "metadata": {
    "collapsed": true
   },
   "outputs": [],
   "source": []
  }
 ],
 "metadata": {
  "kernelspec": {
   "display_name": "Python 2",
   "language": "python",
   "name": "python2"
  },
  "language_info": {
   "codemirror_mode": {
    "name": "ipython",
    "version": 2
   },
   "file_extension": ".py",
   "mimetype": "text/x-python",
   "name": "python",
   "nbconvert_exporter": "python",
   "pygments_lexer": "ipython2",
   "version": "2.7.6"
  }
 },
 "nbformat": 4,
 "nbformat_minor": 0
}
