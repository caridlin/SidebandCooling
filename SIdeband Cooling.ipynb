{
 "cells": [
  {
   "cell_type": "markdown",
   "metadata": {},
   "source": [
    "# Theorem"
   ]
  },
  {
   "cell_type": "markdown",
   "metadata": {},
   "source": [
    "For strongly confined atoms and suitable em fields, the coupling of the fields and the internal levels of the atom is formally equivalent to the Jaynes-Cummings Hamiltonian."
   ]
  },
  {
   "cell_type": "markdown",
   "metadata": {},
   "source": [
    "The full hamiltonian of the system (laser + atom) is\n",
    "\n",
    "$H=H^{(m)}+H^{(e)}+H^{(i)}$\n",
    "\n",
    "where $H^{(m)}$ is the motional hamiltonian, $H^{(e)}$ describes the internal electronic level structure of the atom, $H^{(i)}$ is the interactions between the laser and the atom."
   ]
  },
  {
   "cell_type": "markdown",
   "metadata": {},
   "source": [
    "# Motional hamiltonian"
   ]
  },
  {
   "cell_type": "markdown",
   "metadata": {},
   "source": [
    "Consider the 1d case (along $z$). Ignore motion along the lattice radial direction (which should be a Gaussian), optical lattice potential formed by retroreflected laser beams is (large detuned case)\n",
    "\n",
    "$H^{(m)}=\\frac{p^2}{2m}-U_0 cos^2(k_Lz)=\\frac{p^2}{2m}-U_0 (1-k_L^2z^2+\\frac{1}{3}k_L^4z^4-\\frac{2}{45}k_L^6z^6+...)$\n",
    "\n",
    "where $z,p$ should be regarded as operators $z=\\frac{z_0}{\\sqrt{2}}(a+a^{+}), p=\\frac{ip_0}{\\sqrt{2}}(a^{+}-a)$.\n",
    "\n",
    "$z_0=\\sqrt{\\frac{\\hbar}{m\\omega_z}}, p_0=\\sqrt{m\\hbar \\omega_z}, \\omega_z=\\sqrt{\\frac{2U_0}{m}}$\n",
    "\n",
    "The corresponding $H^{(m)}$ is (ignore offset $-U_0$)\n",
    "\n",
    "$H^{(m)}=\\hbar \\omega_z (a^{+}a+\\frac{1}{2})-\\frac{1}{12}\\hbar \\omega_z \\eta^2_{L} (a+a^{+})^4 +\\frac{1}{90}\\hbar \\omega_z \\eta^4_{L} (a+a^{+})^6+... $\n",
    "\n",
    "where $\\eta_{L}=\\frac{k_Lz_0}{\\sqrt{2}}=\\sqrt{\\frac{E_{R,L}}{\\hbar \\omega_z}}$ is the lattice Lamb-Dicke parameter, $E_{R,L}=\\frac{\\hbar^2 k_L^2}{2m}$ is the recoil energy of the lattice.\n",
    "\n"
   ]
  },
  {
   "cell_type": "markdown",
   "metadata": {},
   "source": [
    "In the lattice Lamb-Dicke regime, $\\eta_L \\ll1$,\n",
    "\n",
    "$H^{(m)}= \\hbar \\omega_z (a^{+}a+\\frac{1}{2})$ is a harmonic trap. $a$ and $a^+$ are the usual annihilattion and creation operators:\n",
    "\n",
    "$a\\mid n\\rangle=\\sqrt{n}\\mid n-1 \\rangle$\n",
    "\n",
    "$a^+\\mid n\\rangle=\\sqrt{n+1}\\mid n+1\\rangle$"
   ]
  },
  {
   "cell_type": "markdown",
   "metadata": {},
   "source": [
    "### Gaussian trap"
   ]
  },
  {
   "cell_type": "markdown",
   "metadata": {},
   "source": [
    "$H^{(m)}=\\frac{p^2}{2m}-U_0 e^{-\\frac{2z^2}{w_0^2}}=\\frac{p^2}{2m}-U_0 (1-\\frac{2z^2}{w_0^2}+\\frac{2z^4}{w_0^4}-\\frac{2}{3}\\frac{2z^6}{w_0^6}+...)$"
   ]
  },
  {
   "cell_type": "markdown",
   "metadata": {},
   "source": [
    "# Internal hamiltonian"
   ]
  },
  {
   "cell_type": "markdown",
   "metadata": {},
   "source": [
    "Assume a two-level system with levels $\\mid g\\rangle$ and $\\mid e\\rangle$ and an energy difference $\\hbar \\omega=\\hbar(\\omega_e-\\omega_g)$\n",
    "\n",
    "$H^{(e)}=\\hbar \\omega_g \\mid g\\rangle\\langle g\\mid + \\hbar\\omega_e \\mid e\\rangle\\langle e \\ \\mid$\n",
    "\n",
    "Or use Pauli matrices (ignore offset $-\\frac{\\hbar}{2}(\\omega_e+\\omega_g)$),\n",
    "\n",
    "$H^{(e)}=\\hbar \\frac{\\omega}{2} \\sigma_z$\n",
    "\n",
    "where $\\sigma_z=\\mid g\\rangle\\langle g\\mid - \\mid e\\rangle\\langle e \\ \\mid$"
   ]
  },
  {
   "cell_type": "markdown",
   "metadata": {},
   "source": [
    "# Interaction hamiltonian"
   ]
  },
  {
   "cell_type": "markdown",
   "metadata": {},
   "source": [
    "### General formalism"
   ]
  },
  {
   "cell_type": "markdown",
   "metadata": {},
   "source": [
    "For the most common three types of transitions, ie, electric dipole, electric quadrupole and stimulated Raman transitions,\n",
    "\n",
    "$H^{(i)}=\\frac{\\hbar \\Omega}{2} (\\mid g\\rangle\\langle e\\mid+\\mid e\\rangle\\langle g\\mid)(e^{i(k_Cz-\\omega_C t+\\phi)}+e^{-i(k_Cz-\\omega_C t+\\phi)})$\n",
    "\n",
    "where $\\Omega, k_C , \\omega_C$ are the effective parameters of the laser for all three types of transitions. $k_C$ lies along $z$ axis. $\\phi$ is an addtional phase like in quadrupole or Raman coupling. The em fields are treated classically.\n",
    "\n",
    "Or use Pauli matrices,\n",
    "\n",
    "$H^{(i)}=\\frac{\\hbar \\Omega}{2} (\\sigma_{+} +\\sigma_{-})(e^{i(k_Cz-\\omega_C t+\\phi)}+e^{-i(k_Cz-\\omega_C t+\\phi)})$\n",
    "\n",
    "where $\\sigma_{+}=\\frac{1}{2}(\\sigma_x+i\\sigma_y),\\sigma_{-}=\\frac{1}{2}(\\sigma_x-i\\sigma_y) $"
   ]
  },
  {
   "cell_type": "markdown",
   "metadata": {},
   "source": [
    "Transform into the interaction picture (rotating axis), the unperturbed hamiltonian is \n",
    "\n",
    "$H_0 = H^{(m)}+H^{(e)}$\n",
    "\n",
    "$U_0=e^{-\\frac{i}{\\hbar} H_0 t}$\n",
    "\n",
    "The transformed interaction hamiltonian is \n",
    "\n",
    "$H_{int}^I=U_0^+ H^{(i)} U_0=\\frac{\\hbar \\Omega}{2}e^{\\frac{i}{\\hbar} H^{(e)} t } (\\sigma_{+} +\\sigma_{-})e^{-\\frac{i}{\\hbar} H^{(e)} t }e^{\\frac{i}{\\hbar} H^{(m)} t } (e^{i(k_Cz-\\omega_C t+\\phi)}+e^{-i(k_Cz-\\omega_C t+\\phi)})e^{-\\frac{i}{\\hbar} H^{(m)} t }$\n",
    "\n",
    "Or use Baker–Campbell–Hausdorff formula\n",
    "\n",
    "$H_{int}^I=\\frac{\\hbar \\Omega}{2} (\\sigma_{+}e^{i \\omega t } +\\sigma_{-}e^{-i \\omega t })e^{\\frac{i}{\\hbar} H^{(m)} t }(e^{i(k_Cz-\\omega_C t+\\phi)}+e^{-i(k_Cz-\\omega_C t+\\phi)})e^{-\\frac{i}{\\hbar} H^{(m)} t }$"
   ]
  },
  {
   "cell_type": "markdown",
   "metadata": {},
   "source": [
    "Rotating wave approximation\n",
    "\n",
    "$H_{int}^I=\\frac{\\hbar \\Omega}{2} e^{\\frac{i}{\\hbar} H^{(m)} t }(\\sigma_{+} e^{i(k_Cz-\\delta t+\\phi)}+h.c.) e^{-\\frac{i}{\\hbar} H^{(m)} t }$\n",
    "\n",
    "where $\\delta=\\omega_C-\\omega$ is the detuning.\n",
    "\n",
    "Define $\\eta=\\frac{k_C z_0}{\\sqrt{2}}=\\sqrt{\\frac{E_{R,C}}{\\hbar \\omega_z}}=\\frac{k_C}{k_L}\\eta_L$ is the usual Lamb-Dicke parameter, $E_{R,C}=\\frac{\\hbar^2 k_C^2}{2m}$ is the recoil energy of the laser.\n",
    "\n",
    "\n",
    "$H_{int}^I=\\frac{\\hbar \\Omega}{2} e^{\\frac{i}{\\hbar} H^{(m)} t }(\\sigma_{+} e^{i \\eta (a+a^+)}e^{i(-\\delta t+\\phi)}+h.c.) e^{-\\frac{i}{\\hbar} H^{(m)} t }=\\frac{\\hbar \\Omega}{2} \\sigma_{+} e^{i \\eta (a_{H}+a_{H}^+)}e^{i(-\\delta t+\\phi)}+h.c.=\\frac{\\hbar \\Omega}{2} \\sigma_{+} e^{i \\eta (a e^{-i\\omega_zt}+a^+ e^{i\\omega_zt})}e^{i(-\\delta t+\\phi)}+h.c.$\n",
    "\n",
    "where $a_H=e^{-i\\omega_zt}a$, $a_H^+=e^{i\\omega_zt}a^+$ are the annhilation and creation operators in the Heisenberg picture (for the unperturbed motional hamiltonian)."
   ]
  },
  {
   "cell_type": "markdown",
   "metadata": {},
   "source": [
    "### Coupling of sidebands"
   ]
  },
  {
   "cell_type": "markdown",
   "metadata": {},
   "source": [
    "Expand the above equation for $H_{int}^I$ in terms of $\\eta$. The term containing $\\eta ^{l+m}$ with $l$ $a$ operators and $m$  $a^+$ operators rotates with a frequency $(l-m) \\omega_z$.\n",
    "\n",
    "\n",
    "If the detuning $\\delta$ matches states $\\mid g \\rangle \\mid n \\rangle $ and $\\mid e \\rangle \\mid n+s \\rangle $, i.e, $(l-m) \\omega_z = s \\omega_z$. These two states are in resonance.\n",
    "\n",
    "Effective coupling ($\\mid s\\mid$ sideband Rabi frequency) $\\Omega_{n, n+s}=\\Omega_{n+s, n}$\n",
    "\n",
    "(Illustration from Nicholson phd thesis or Wineland 1979)\n",
    "\n",
    "<img src=\"files/SideBand.png\", width=650>\n",
    "\n",
    "<img src=\"files/ResolvedSideBand.png\", width=800>"
   ]
  },
  {
   "cell_type": "markdown",
   "metadata": {},
   "source": [
    "### Lamb-Dicke regime"
   ]
  },
  {
   "cell_type": "markdown",
   "metadata": {},
   "source": [
    "Lamb-Dicke regime: the atom is fully confined within the harmonic trap such that its extension of the wave function is much smaller than the transition wavelength, \n",
    "\n",
    "i.e, $\\eta \\ll 1$ and $\\eta \\sqrt{\\langle(a_H+a_H^+)^2 \\rangle}\\ll 1$ in all times. \n",
    "\n",
    "In this case:\n",
    "\n",
    "$H_{int}^I=\\frac{\\hbar \\Omega}{2} \\sigma_{+} (1+ i\\eta a e^{-i\\omega_z t}+ i \\eta a^+e^{i\\omega_z t})e^{i(-\\delta t+\\phi)}+h.c.$\n",
    "\n",
    "\n",
    "It only contains three resonances!\n",
    "\n",
    "$\\delta=0$ carrier resonance $H_{car}^I=\\frac{\\hbar \\Omega}{2} (\\sigma_{+} e^{i\\phi}+\\sigma_{-} e^{-i\\phi})$. This transition will not affect the motional state.\n",
    "\n",
    "$\\delta=-\\omega_z$ first red sideband $H_{rsb}^I=\\frac{\\hbar \\Omega}{2} \\eta (a\\sigma_{+} e^{i\\phi}+a^+\\sigma_{-} e^{-i\\phi})$. Equivalent to Jaynes-Cummings model.\n",
    "\n",
    "$\\delta=\\omega_z$ first blue sideband $H_{bsb}^I=\\frac{\\hbar \\Omega}{2} \\eta (a^+\\sigma_{+} e^{i\\phi}+a\\sigma_{-} e^{-i\\phi})$. Anti-Jaynes-Cummings model.\n",
    "\n",
    "<img src=\"files/MotionalTransitions.png\", width=600>\n",
    "\n",
    "(Illustration from Boyd phd thesis)\n"
   ]
  },
  {
   "cell_type": "markdown",
   "metadata": {},
   "source": [
    "### A closer look at the first red sideband"
   ]
  },
  {
   "cell_type": "markdown",
   "metadata": {},
   "source": [
    "This is the mostly used transition in cooling.\n",
    "\n",
    "Consider a near resonance case $\\delta \\simeq-\\omega_z$ with a resolved sideband (linewidth $\\Gamma \\ll \\omega_z$)\n",
    "\n",
    "\n",
    "$H_{rsb}^I=\\frac{\\hbar \\Omega}{2} \\eta (a\\sigma_{+} e^{i(-\\delta t+\\phi)}+a^+\\sigma_{-} e^{-i(-\\delta t+\\phi)})$\n",
    "\n",
    "Back to the Schrodinger picture and in the $\\mid g,n \\rangle$, $\\mid e, n-1 \\rangle$ subspace\n",
    "\n",
    "$ H =\\hbar \\left[ \\begin{array}{cccc}\n",
    "0 & \\frac{ \\Omega}{2} \\eta \\sqrt{n}e^{i(-\\omega_C t+\\phi)}\\\\\n",
    "\\frac{ \\Omega}{2} \\eta \\sqrt{n}e^{-i(-\\omega_C t+\\phi)} & \\omega-\\omega_z\\\\ \\end{array} \\right]$\n",
    "\n",
    "It will give a Rabi oscillation at $\\sqrt{(\\Omega \\eta \\sqrt{n})^2+(\\omega-\\omega_C-\\omega_z)^2}=\\sqrt{(\\Omega \\eta \\sqrt{n})^2+(\\delta+\\omega_z)^2}$\n"
   ]
  },
  {
   "cell_type": "markdown",
   "metadata": {},
   "source": [
    "## Resolved sideband cooling"
   ]
  },
  {
   "cell_type": "markdown",
   "metadata": {},
   "source": [
    "<img src=\"files/CoolingLevel.png\", width=600>"
   ]
  },
  {
   "cell_type": "markdown",
   "metadata": {},
   "source": [
    "<img src=\"files/Heating.png\", width=600>"
   ]
  },
  {
   "cell_type": "markdown",
   "metadata": {},
   "source": [
    "An initial Doppler leading to Lamb-Dicke regime.\n",
    "\n",
    "$\\delta=-\\omega_z$ red sideband on resonance, carrier detuning $\\omega_z$, blue sideband detuning $2\\omega_z$\n",
    "\n",
    "$H_{int}^I=\\frac{\\hbar \\Omega}{2} (\\sigma_{+} e^{i\\omega_z t}e^{i\\phi}+\\sigma_{-} e^{-i\\omega_z t}e^{-i\\phi})+ \\frac{\\hbar \\Omega}{2} i \\eta (a\\sigma_{+} e^{i\\phi}+a^+\\sigma_{-} e^{-i\\phi})+\\frac{\\hbar \\Omega}{2} i \\eta (a^+\\sigma_{+} e^{i2\\omega_z t}e^{i\\phi}+a\\sigma_{-} e^{-i2\\omega_z t}e^{-i\\phi})$\n",
    "\n",
    "Can use master equation to solve but since every cooling cycle involves spontaneous emission, coherences never play a strong role. Can use rate equations."
   ]
  },
  {
   "cell_type": "markdown",
   "metadata": {},
   "source": [
    "The steady state solution of the optical Bloch equations for the upper state population is\n",
    "\n",
    "$\\rho_{22}=\\frac{\\Omega^2/4}{\\delta^2+\\Omega^2/2+\\Gamma^2/4}$ (Foot, pp137, equ 7.69)\n",
    "\n",
    "where $\\Gamma$ is the linewidth.\n",
    "\n",
    "Therefore the cooling rate can be estimated as \n",
    "\n",
    "$R_n=\\Gamma_e \\rho_{22}=\\Gamma_e \\frac{(\\Omega \\eta \\sqrt{n})^2}{2(\\Omega \\eta \\sqrt{n})^2+\\Gamma_e^2}$\n",
    "\n",
    "The cooling rate depends on $n$ and as the atom reaches the ground state ($n=0$), $R_n$ vanishes as expected."
   ]
  },
  {
   "cell_type": "markdown",
   "metadata": {},
   "source": [
    "Only consider the final part of the cooling. Populations in states other than $n=0$ and $n=1$ are neglected. The two heating processes come from the off-resonance excitation of the carrier and the first blue sideband.\n",
    "\n",
    "The two heating rates can be estimated as  ($\\Gamma_e, \\Omega \\ll \\omega_z$)\n",
    "\n",
    "$R_1=p_0 \\frac{\\Omega^2/4}{\\omega_z^2}\\Gamma_e \\tilde {\\eta}^{2}$\n",
    "\n",
    "$R_2=p_0 \\frac{\\eta^2 \\Omega^2/4}{(2\\omega_z)^2}\\Gamma_e $\n",
    "\n",
    "where $\\tilde {\\eta}$ is an effective Lamb-Dicke factor for the spontaneous decay."
   ]
  },
  {
   "cell_type": "markdown",
   "metadata": {},
   "source": [
    "The rate equation is therefore\n",
    "\n",
    "$\\frac{dp_0}{dt}=p_1 \\Gamma_e \\frac{(\\Omega \\eta )^2}{2(\\Omega \\eta )^2+\\Gamma_e^2}-p_0 \\frac{\\Omega^2/4}{\\omega_z^2}\\Gamma_e \\tilde {\\eta}^{2} - p_0 \\frac{\\eta^2 \\Omega^2/4}{(2\\omega_z)^2}\\Gamma_e$\n",
    "\n",
    "$\\frac{dp_1}{dt}=-\\frac{dp_0}{dt}$\n",
    "\n",
    "The solution is \n",
    "\n",
    "$\\bar{n}=p_1=\\frac{2 \\eta^2 \\Omega^2 +\\Gamma_e^2}{4\\omega_z^2} ((\\frac{\\tilde{\\eta}}{\\eta})^2+\\frac{1}{4})$\n",
    "\n",
    "$p_0 \\simeq 1-\\frac{ 2\\eta^2 \\Omega^2 +\\Gamma_e^2}{4\\omega_z^2}$ very close to 1."
   ]
  },
  {
   "cell_type": "markdown",
   "metadata": {},
   "source": [
    "The characteristic decay time is $W \\simeq \\Gamma_e \\frac{\\eta^2 \\Omega^2}{2\\eta^2 \\Omega^2 +\\Gamma_e^2}$.\n",
    "\n",
    "$\\eta =0.2, \\Omega = 100 \\ rad/s, \\Gamma_e = 1 mHz$\n",
    "\n",
    "$W \\simeq \\frac{\\Gamma_e}{2} $"
   ]
  },
  {
   "cell_type": "code",
   "execution_count": 8,
   "metadata": {
    "collapsed": false
   },
   "outputs": [
    {
     "name": "stdout",
     "output_type": "stream",
     "text": [
      "1/W= 318.471956762 n= 2.0284798572e-05\n"
     ]
    }
   ],
   "source": [
    "pi = 3.14\n",
    "eta = 0.2\n",
    "Omega = 100\n",
    "Gamma = 2*pi*0.001\n",
    "omega_z = 2*pi*500\n",
    "W = Gamma*(eta*Omega/(2*pi))**2/(2*(eta*Omega/(2*pi))**2 + Gamma**2)\n",
    "n=5/4*(eta*Omega/omega_z)**2/2\n",
    "print '1/W=', 1/W, 'n=', n"
   ]
  },
  {
   "cell_type": "markdown",
   "metadata": {},
   "source": [
    "### Appendix"
   ]
  },
  {
   "cell_type": "markdown",
   "metadata": {},
   "source": [
    "### Different couplings of laser to the internal electronic state"
   ]
  },
  {
   "cell_type": "markdown",
   "metadata": {},
   "source": [
    "Dopper cooling & fluorescence: dipole transitions\n",
    "\n",
    "Resolved sideband cooling: quadrupole transitions or stimulated Raman transitions"
   ]
  },
  {
   "cell_type": "markdown",
   "metadata": {},
   "source": [
    "Dipole coupling:\n",
    "\n",
    "$H_D = -e\\mathbf{r} \\cdot \\mathbf{E_0}(e^{i(kz-\\omega t)}+c.c.)$\n",
    "\n",
    "The matrix element is $\\langle g \\mid H_D \\mid e \\rangle = -e \\langle g \\mid \\mathbf{r} \\cdot \\mathbf{E_0} \\mid e \\rangle (e^{i(kz-\\omega t)}+c.c.)$\n",
    "\n",
    "$\\frac{\\hbar \\Omega}{2} = -e \\langle g \\mid \\mathbf{r} \\cdot \\mathbf{E_0} \\mid e \\rangle$"
   ]
  },
  {
   "cell_type": "markdown",
   "metadata": {},
   "source": [
    "Quadrupole coupling:\n",
    "\n",
    "$H_Q = -\\frac{1}{2} iekz\\mathbf{r} \\cdot \\mathbf{E_0}(e^{i(kz-\\omega t)}+c.c.)$\n",
    "\n",
    "The matrix element is $\\langle g \\mid H_Q \\mid e \\rangle = -\\frac{1}{2}e k\\langle g \\mid z\\mathbf{r} \\cdot \\mathbf{E_0} \\mid e \\rangle (e^{i(kz-\\omega t+\\pi/2)}+c.c.)$\n",
    "\n",
    "$\\frac{\\hbar \\Omega}{2} = -\\frac{1}{2}e k\\langle g \\mid z\\mathbf{r} \\cdot \\mathbf{E_0} \\mid e \\rangle$"
   ]
  },
  {
   "cell_type": "markdown",
   "metadata": {},
   "source": [
    "Raman coupling:\n",
    "\n",
    "$\\frac{\\hbar \\Omega}{2}=-\\hbar \\frac{\\mid \\Omega_{g3} \\Omega_{e3}\\mid}{\\Delta_R} e^{i \\delta \\phi}$\n",
    "\n",
    "Usually can have strong coupling as well as stable phase difference, but need to cancel Stark shifts."
   ]
  }
 ],
 "metadata": {
  "kernelspec": {
   "display_name": "Python 2",
   "language": "python",
   "name": "python2"
  },
  "language_info": {
   "codemirror_mode": {
    "name": "ipython",
    "version": 2
   },
   "file_extension": ".py",
   "mimetype": "text/x-python",
   "name": "python",
   "nbconvert_exporter": "python",
   "pygments_lexer": "ipython2",
   "version": "2.7.6"
  }
 },
 "nbformat": 4,
 "nbformat_minor": 0
}
