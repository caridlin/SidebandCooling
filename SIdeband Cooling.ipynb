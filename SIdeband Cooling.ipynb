{
 "cells": [
  {
   "cell_type": "markdown",
   "metadata": {},
   "source": [
    "# Theorem"
   ]
  },
  {
   "cell_type": "markdown",
   "metadata": {},
   "source": [
    "For strongly confined atoms and suitable em fields, the coupling of the fields and the internal levels of the atom is formally equivalent to the Jaynes-Cummings Hamiltonian."
   ]
  },
  {
   "cell_type": "markdown",
   "metadata": {},
   "source": [
    "The full hamiltonian of the system (laser + atom) is\n",
    "\n",
    "$H=H^{(m)}+H^{(e)}+H^{(i)}$\n",
    "\n",
    "where $H^{(m)}$ is the motional hamiltonian, $H^{(e)}$ describes the internal electronic level structure of the atom, $H^{(i)}$ is the interactions between the laser and the atom."
   ]
  },
  {
   "cell_type": "markdown",
   "metadata": {},
   "source": [
    "# Motional hamiltonian"
   ]
  },
  {
   "cell_type": "markdown",
   "metadata": {},
   "source": [
    "Consider the 1d case (along $z$). Ignore motion along the lattice radial direction (which should be a Gaussian), optical lattice potential formed by retroreflected laser beams is (large detuned case)\n",
    "\n",
    "$H^{(m)}=\\frac{p^2}{2m}-U_0 cos^2(k_Lz)=\\frac{p^2}{2m}-U_0 (1-k_L^2z^2+\\frac{1}{3}k_L^4z^4-\\frac{2}{45}k_L^6z^6+...)$\n",
    "\n",
    "where $z,p$ should be regarded as operators $z=\\frac{z_0}{\\sqrt{2}}(a+a^{+}), p=\\frac{ip_0}{\\sqrt{2}}(a^{+}-a)$.\n",
    "\n",
    "$z_0=\\sqrt{\\frac{\\hbar}{m\\omega_z}}, p_0=\\sqrt{m\\hbar \\omega_z}, \\omega_z=\\sqrt{\\frac{2U_0}{m}}$\n",
    "\n",
    "The corresponding $H^{(m)}$ is (ignore offset $-U_0$)\n",
    "\n",
    "$H^{(m)}=\\hbar \\omega_z (a^{+}a+\\frac{1}{2})-\\frac{1}{12}\\hbar \\omega_z \\eta^2_{L} (a+a^{+})^4 +\\frac{1}{90}\\hbar \\omega_z \\eta^4_{L} (a+a^{+})^6+... $\n",
    "\n",
    "where $\\eta_{L}=\\frac{k_Lz_0}{\\sqrt{2}}=\\sqrt{\\frac{E_{R,L}}{\\hbar \\omega_z}}$ is the lattice Lamb-Dicke parameter, $E_{R,L}=\\frac{\\hbar^2 k_L^2}{2m}$ is the recoil energy.\n",
    "\n"
   ]
  },
  {
   "cell_type": "markdown",
   "metadata": {},
   "source": [
    "In the lattice Lamb-Dicke regime, $\\eta_L \\ll1$,\n",
    "\n",
    "$H^{(m)}= \\hbar \\omega_z (a^{+}a+\\frac{1}{2})$ is a harmonic trap. $a$ and $a^+$ are the usual annihilattion and creation operators:\n",
    "\n",
    "$a\\  |n>=\\sqrt{n}\\ |n-1>$\n",
    "\n",
    "$a^+\\  |n>=\\sqrt{n+1}\\ |n+1>$"
   ]
  },
  {
   "cell_type": "markdown",
   "metadata": {},
   "source": [
    "# Internal hamiltonian"
   ]
  },
  {
   "cell_type": "markdown",
   "metadata": {},
   "source": [
    "Assume a two-level system with levels $|g>$ and $|e>$ and an energy difference $\\hbar \\omega=\\hbar(\\omega_e-\\omega_g)$\n",
    "\n",
    "$H^{(e)}=\\hbar \\omega_g |g><g| + \\hbar\\omega_e |e><e|$\n",
    "\n",
    "Or use Pauli matrices (ignore offset $-\\frac{\\hbar}{2}(\\omega_e+\\omega_g)$),\n",
    "\n",
    "$H^{(e)}=\\hbar \\frac{\\omega}{2} \\sigma_z$\n",
    "\n",
    "where $\\sigma_z=|g><g| -|e><e|$"
   ]
  },
  {
   "cell_type": "markdown",
   "metadata": {},
   "source": [
    "# Interaction hamiltonian"
   ]
  },
  {
   "cell_type": "markdown",
   "metadata": {},
   "source": [
    "For the most common three types of transitions, ie, electric dipole, electric quadrupole and stimulated Raman transitions,\n",
    "\n",
    "$H^{(i)}=\\frac{\\hbar \\Omega}{2} (|g><e|+|e><g|)(e^{i(k_Cz-\\omega_C t+\\phi)}+e^{-i(k_Cz-\\omega_C t+\\phi)})$\n",
    "\n",
    "where $\\Omega, k_C , \\omega_C$ are the effective parameters of the laser for all three types of transitions. $k_C$ lies along $z$ axis.\n",
    "\n",
    "Or use Pauli matrices,\n",
    "\n",
    "$H^{(i)}=\\frac{\\hbar \\Omega}{2} (\\sigma_{+} +\\sigma_{-})(e^{i(k_Cz-\\omega_C t+\\phi)}+e^{-i(k_Cz-\\omega_C t+\\phi)})$\n",
    "\n",
    "where $\\sigma_{+}=\\frac{1}{2}(\\sigma_x+i\\sigma_y),\\sigma_{-}=\\frac{1}{2}(\\sigma_x-i\\sigma_y) $"
   ]
  },
  {
   "cell_type": "markdown",
   "metadata": {},
   "source": [
    "Transform into the interaction picture (rotating axis), the unperturbed hamiltonian is \n",
    "\n",
    "$H_0 = H^{(m)}+H^{(e)}$\n",
    "\n",
    "$U_0=e^{-\\frac{i}{\\hbar} H_0 t}$\n",
    "\n",
    "The transformed interaction hamiltonian is \n",
    "\n",
    "$H_{int}=U_0^+ H^{(i)} U_0=\\frac{\\hbar \\Omega}{2}e^{\\frac{i}{\\hbar} H^{(e)} t } (\\sigma_{+} +\\sigma_{-})e^{-\\frac{i}{\\hbar} H^{(e)} t }e^{\\frac{i}{\\hbar} H^{(m)} t } (e^{i(k_Cz-\\omega_C t+\\phi)}+e^{-i(k_Cz-\\omega_C t+\\phi)})e^{-\\frac{i}{\\hbar} H^{(m)} t }$\n",
    "\n",
    "Or use Baker–Campbell–Hausdorff formula\n",
    "\n",
    "$H_{int}=\\frac{\\hbar \\Omega}{2} (\\sigma_{+}e^{i \\omega t } +\\sigma_{-}e^{-i \\omega t })e^{\\frac{i}{\\hbar} H^{(m)} t }(e^{i(k_Cz-\\omega_C t+\\phi)}+e^{-i(k_Cz-\\omega_C t+\\phi)})e^{-\\frac{i}{\\hbar} H^{(m)} t }$"
   ]
  },
  {
   "cell_type": "markdown",
   "metadata": {},
   "source": [
    "Rotating wave approximation\n",
    "\n",
    "$H_{int}=\\frac{\\hbar \\Omega}{2} e^{\\frac{i}{\\hbar} H^{(m)} t }(\\sigma_{+} e^{i(k_Cz-\\delta t+\\phi)}+h.c.) e^{-\\frac{i}{\\hbar} H^{(m)} t }$\n",
    "\n",
    "where $\\delta=\\omega_C-\\omega$ is the detuning."
   ]
  },
  {
   "cell_type": "markdown",
   "metadata": {},
   "source": [
    "Back to the Schrodinger picture\n",
    "\n",
    "$H_{int}=\\frac{\\hbar \\Omega}{2}\\sigma_{+} e^{i(k_Cz-\\delta t+\\phi)}+h.c.$"
   ]
  },
  {
   "cell_type": "markdown",
   "metadata": {},
   "source": []
  }
 ],
 "metadata": {
  "kernelspec": {
   "display_name": "Python 2",
   "language": "python",
   "name": "python2"
  },
  "language_info": {
   "codemirror_mode": {
    "name": "ipython",
    "version": 2
   },
   "file_extension": ".py",
   "mimetype": "text/x-python",
   "name": "python",
   "nbconvert_exporter": "python",
   "pygments_lexer": "ipython2",
   "version": "2.7.6"
  }
 },
 "nbformat": 4,
 "nbformat_minor": 0
}
