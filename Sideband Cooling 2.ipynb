{
 "cells": [
  {
   "cell_type": "markdown",
   "metadata": {},
   "source": [
    "# Optical Bloch equations"
   ]
  },
  {
   "cell_type": "markdown",
   "metadata": {},
   "source": [
    "$H_{int}^I=\\frac{\\hbar \\Omega}{2} \\sigma_{+} e^{i \\eta (a e^{-i\\omega_zt}+a^+ e^{i\\omega_zt})}e^{i(-\\delta t+\\phi)}+h.c.$"
   ]
  },
  {
   "cell_type": "markdown",
   "metadata": {},
   "source": [
    "Back to the Schrodinger picture\n",
    "\n",
    "$H_{int}=\\frac{\\hbar \\Omega}{2} (\\sigma_{+} e^{i(\\eta (a+a^+)-\\omega_C t+\\phi)}+\\sigma_{-}e^{-i(\\eta (a+a^+)-\\omega_C t+\\phi)})$\n"
   ]
  },
  {
   "cell_type": "markdown",
   "metadata": {},
   "source": [
    "Effective Rabi frequency\n",
    "\n",
    "$\\Omega_{n, n+s}=\\Omega_{n+s, n}=\\Omega \\mid \\langle n+s \\mid e^{i\\eta (a+a^+)}\\mid n \\rangle \\mid$\n"
   ]
  },
  {
   "cell_type": "markdown",
   "metadata": {},
   "source": [
    "Optical Bloch equations\n",
    "\n",
    "$\\frac{d \\rho_{ij}}{dt}=-\\frac{\\Gamma}{2}\\rho_{ij} + i \\sum_k (\\rho_{ik} \\Omega_{kj}-\\rho_{kj}\\Omega_{ik})$\n",
    "\n",
    "$\\frac{d \\rho_{ii}}{dt} = -\\Gamma \\rho_{ii}+ i \\sum_k (\\rho_{ik} \\Omega_{ki}-\\rho_{ki}\\Omega_{ik})$\n",
    "\n",
    "Can be solved by simulation"
   ]
  },
  {
   "cell_type": "markdown",
   "metadata": {},
   "source": [
    "# Rate equations"
   ]
  },
  {
   "cell_type": "markdown",
   "metadata": {},
   "source": [
    "The rate of absorption-emission cycles is given by the scattering rate\n",
    "\n",
    "$R_{scatt}(\\delta)=\\Gamma \\rho_{22}= \\Gamma \\frac{\\Omega^2/4}{\\delta^2+\\Omega^2/2+\\Gamma^2/4}$\n",
    "\n",
    "$\\delta=-\\omega_z$ red sideband on resonance, carrier detuning $\\omega_z$, blue sideband detuning $2\\omega_z$\n",
    "\n",
    "$R_{rsb}= \\Gamma \\frac{(n) \\eta^2 \\Omega^2/4}{(n) \\eta^2 \\Omega^2/2+\\Gamma^2/4} \\simeq \\Gamma$\n",
    "\n",
    "$R_{bsb}= \\Gamma \\frac{(n+1) \\eta^2 \\Omega^2/4}{\\omega_z^2+(n+1) \\eta^2 \\Omega^2/2+\\Gamma^2/4} \\simeq \\Gamma \\frac{(n+1) \\eta^2 \\Omega^2/4}{\\omega_z^2}$\n",
    "\n",
    "$R_{carrier}= \\Gamma \\frac{ \\Omega^2/4}{4 \\omega_z^2+ \\Omega^2/2+\\Gamma^2/4} \\simeq \\Gamma \\frac{ \\Omega^2/4}{4 \\omega_z^2}$"
   ]
  },
  {
   "cell_type": "markdown",
   "metadata": {},
   "source": [
    "Denote $P_n$ the population of $\\mid g,n \\rangle $\n",
    "\n",
    "Lamb-Dicke limit & laser power below saturation, $\\eta \\sqrt{n} \\Omega \\ll \\delta$ (will give the slowest rate?)\n",
    "\n",
    "$\\frac{d P_n}{dt}=A_{1}P_{n-1}+A_{2}P_{n+1}-A_{3} P_n-A_{4}Pn$"
   ]
  },
  {
   "cell_type": "markdown",
   "metadata": {},
   "source": [
    "where $ A_{1} = R_{bsb}+R_{carrier}\\eta'^2= \\Gamma n\\frac{ \\eta^2 \\Omega^2/4}{\\omega_z^2}+\\Gamma \\eta'^2\\frac{ \\Omega^2/4}{4 \\omega_z^2}$\n",
    "\n",
    "$ A_{2}=R_{rsb}+R_{carrier}\\eta'^2=\\Gamma +\\Gamma \\eta'^2\\frac{ \\Omega^2/4}{4 \\omega_z^2}$\n",
    "\n",
    "$ A_{3} = R_{bsb}+R_{carrier}\\eta'^2= \\Gamma (n+1)\\frac{ \\eta^2 \\Omega^2/4}{\\omega_z^2}+\\Gamma \\eta'^2\\frac{ \\Omega^2/4}{4 \\omega_z^2}$\n",
    "\n",
    "$ A_{4}=R_{rsb}+R_{carrier}\\eta'^2=\\Gamma +\\Gamma \\eta'^2\\frac{ \\Omega^2/4}{4 \\omega_z^2}$\n",
    "\n",
    "$\\frac{d P_n}{dt}=nB_{1}P_{n-1}+B_{2}(P_{n+1}-P_n)-(n+1)B_{1} P_n+B_{3}(P_{n-1}-P_n)$\n",
    "\n",
    "where $B_{1}=\\Gamma \\frac{ \\eta^2 \\Omega^2/4}{\\omega_z^2}$\n",
    "\n",
    "$B_{2}=\\Gamma +\\Gamma \\eta'^2\\frac{ \\Omega^2/4}{4 \\omega_z^2}$\n",
    "\n",
    "$B_{3}=\\Gamma \\eta'^2\\frac{ \\Omega^2/4}{4 \\omega_z^2}$\n",
    "\n",
    "\n",
    "Define the average excitation number $\\langle n \\rangle =\\sum_{n=0}^{\\infty} n P_n$\n",
    "\n",
    "$\\frac{d\\langle n\\rangle}{dt}=...=B_1\\langle n\\rangle +(B_3-B_2)P_n=B_1\\langle n\\rangle -\\Gamma P_n$\n",
    "\n"
   ]
  },
  {
   "cell_type": "markdown",
   "metadata": {},
   "source": [
    "## An easy case with exact solution:"
   ]
  },
  {
   "cell_type": "markdown",
   "metadata": {},
   "source": [
    "Lamb-Dicke limit & laser power below saturation, $\\eta \\sqrt{n} \\Omega \\ll \\delta$ \n",
    "\n",
    "$\\frac{d P_n}{dt}=nA_{+}P_{n-1}+(n+1)A_{-}P_{n+1}-(n+1)A_{+} P_n-nA_{-}Pn$"
   ]
  },
  {
   "cell_type": "markdown",
   "metadata": {},
   "source": [
    "where $A_{+} =\\eta^2 \\Gamma \\frac{\\Omega^2/4}{\\delta_{bsb}^2+\\Gamma^2/4}+\\eta'^2 \\Gamma\\frac{\\Omega^2/4}{\\delta_{carrier}^2+\\Gamma^2/4}$\n",
    "\n",
    "$A_{-}=\\eta^2 \\Gamma \\frac{\\Omega^2/4}{\\delta_{rsb}^2+\\Gamma^2/4}+\\eta'^2 \\Gamma\\frac{\\Omega^2/4}{\\delta_{carrier}^2+\\Gamma^2/4}$"
   ]
  },
  {
   "cell_type": "markdown",
   "metadata": {},
   "source": [
    "$\\frac{d\\langle n\\rangle}{dt}=...=-(A_{-}-A_{+})\\langle n\\rangle $"
   ]
  },
  {
   "cell_type": "markdown",
   "metadata": {},
   "source": [
    "Cooling: $\\delta=-\\omega_z$ red sideband on resonance, carrier detuning $\\omega_z$, blue sideband detuning $2\\omega_z$\n",
    "\n",
    "$A_{+} =\\eta^2 \\Gamma \\frac{\\Omega^2/4}{\\omega_z^2+\\Gamma^2/4}+\\eta'^2 \\Gamma\\frac{\\Omega^2/4}{4\\omega_z^2+\\Gamma^2/4}$\n",
    "\n",
    "$ A_{-}=\\eta^2 \\Gamma \\frac{\\Omega^2/4}{\\Gamma^2/4}+\\eta'^2 \\Gamma\\frac{\\Omega^2/4}{4\\omega_z^2+\\Gamma^2/4}$\n"
   ]
  },
  {
   "cell_type": "markdown",
   "metadata": {},
   "source": [
    "Cooling rate\n",
    "\n",
    "$A_{-}-A_{+}=\\eta^2 \\Gamma (\\frac{\\Omega^2}{\\Gamma^2}-\\frac{\\Omega^2/4}{\\omega_z^2+\\Gamma^2/4})=\\eta^2 \\Gamma (\\frac{\\Omega^2}{\\Gamma^2}-\\frac{s}{2})$\n",
    "\n",
    "where $s=\\frac{I}{I_{sat}}=2\\frac{\\Omega^2}{\\Gamma^2}\\frac{\\Gamma^2/4}{\\delta^2+\\Gamma^2/4}$ is the saturation parameter of $\\delta = \\omega_z$"
   ]
  },
  {
   "cell_type": "markdown",
   "metadata": {},
   "source": [
    "$\\eta =0.2, \\omega_z =2\\pi \\times 500 Hz, \\Omega = 100 \\ rad/s, \\Gamma_e = 2\\pi \\times1 mHz$ (Nicholson, pp44)"
   ]
  },
  {
   "cell_type": "code",
   "execution_count": 19,
   "metadata": {
    "collapsed": false
   },
   "outputs": [
    {
     "name": "stdout",
     "output_type": "stream",
     "text": [
      "0.000507119964298 63694.2675159\n"
     ]
    }
   ],
   "source": [
    "pi = 3.14\n",
    "eta = 0.2\n",
    "Omega = 100\n",
    "Gamma = 2*pi*0.001\n",
    "omega_z = 2*pi*500\n",
    "s = 2*(Omega/Gamma)**2*(Gamma**2/4)/(omega_z**2+Gamma**2/4)\n",
    "A = eta**2*Gamma*((Omega/Gamma)**2-s/2)\n",
    "print s, A"
   ]
  },
  {
   "cell_type": "markdown",
   "metadata": {
    "collapsed": true
   },
   "source": [
    "Obviously, the red sideband scattering rate is overestimated in this easy case."
   ]
  },
  {
   "cell_type": "markdown",
   "metadata": {},
   "source": [
    "# Robust way to estimate the final average excitation"
   ]
  },
  {
   "cell_type": "markdown",
   "metadata": {},
   "source": [
    "Thermal distribution of harmonic oscillator:\n",
    "\n",
    "$T=\\frac{\\hbar \\omega_z}{k_B ln(\\frac{\\bar{n}+1}{\\bar{n}})}$\n",
    "\n",
    "Density matrix\n",
    "\n",
    "$\\rho=\\frac{1}{\\bar{n}+1} \\sum_{n=0}^{\\infty} (\\frac{\\bar{n}}{\\bar{n}+1})^n \\mid n\\rangle \\langle n \\mid$"
   ]
  }
 ],
 "metadata": {
  "kernelspec": {
   "display_name": "Python 2",
   "language": "python",
   "name": "python2"
  },
  "language_info": {
   "codemirror_mode": {
    "name": "ipython",
    "version": 2
   },
   "file_extension": ".py",
   "mimetype": "text/x-python",
   "name": "python",
   "nbconvert_exporter": "python",
   "pygments_lexer": "ipython2",
   "version": "2.7.6"
  }
 },
 "nbformat": 4,
 "nbformat_minor": 0
}
