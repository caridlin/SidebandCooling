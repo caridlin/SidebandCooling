{
 "cells": [
  {
   "cell_type": "markdown",
   "metadata": {},
   "source": [
    "# Optical Bloch equations"
   ]
  },
  {
   "cell_type": "markdown",
   "metadata": {},
   "source": [
    "$H_{int}^I=\\frac{\\hbar \\Omega}{2} \\sigma_{+} e^{i \\eta (a e^{-i\\omega_zt}+a^+ e^{i\\omega_zt})}e^{i(-\\delta t+\\phi)}+h.c.$"
   ]
  },
  {
   "cell_type": "markdown",
   "metadata": {},
   "source": [
    "Back to the Schrodinger picture\n",
    "\n",
    "$H_{int}=\\frac{\\hbar \\Omega}{2} (\\sigma_{+} e^{i(\\eta (a+a^+)-\\omega_C t+\\phi)}+\\sigma_{-}e^{-i(\\eta (a+a^+)-\\omega_C t+\\phi)})$\n"
   ]
  },
  {
   "cell_type": "markdown",
   "metadata": {},
   "source": [
    "Effective Rabi frequency\n",
    "\n",
    "$\\Omega_{n, n+s}=\\Omega_{n+s, n}=\\Omega \\mid \\langle n+s \\mid e^{i\\eta (a+a^+)}\\mid n \\rangle \\mid$\n"
   ]
  },
  {
   "cell_type": "markdown",
   "metadata": {},
   "source": [
    "Optical Bloch equations\n",
    "\n",
    "$\\frac{d \\rho_{ij}}{dt}=-\\frac{\\Gamma}{2}\\rho_{ij} + i \\sum_k (\\rho_{ik} \\Omega_{kj}-\\rho_{kj}\\Omega_{ik})$\n",
    "\n",
    "$\\frac{d \\rho_{ii}}{dt} = -\\Gamma \\rho_{ii}+ i \\sum_k (\\rho_{ik} \\Omega_{ki}-\\rho_{ki}\\Omega_{ik})$\n",
    "\n",
    "Can be solved by simulation"
   ]
  },
  {
   "cell_type": "markdown",
   "metadata": {},
   "source": [
    "Or should I write the spontaneous emission as\n",
    "\n",
    "$\\Gamma_{n,m}=\\Gamma \\mid \\langle n \\mid e^{i\\eta (a+a^+)}\\mid m \\rangle \\mid$\n",
    "\n",
    "Optical Bloch equations\n",
    "\n",
    "$\\frac{d \\rho_{ij}}{dt}=-\\frac{1}{2} \\sum_k (\\Gamma_{ki} +\\Gamma_{kj})\\rho_{ij} + i \\sum_k (\\rho_{ik} \\Omega_{kj}-\\rho_{kj}\\Omega_{ik})$\n",
    "\n",
    "$\\frac{d \\rho_{ii}}{dt} = \\sum_k \\Gamma_{ik} \\rho_{kk}-\\sum_k\\Gamma_{ki} \\rho_{ii}+ i \\sum_k (\\rho_{ik} \\Omega_{ki}-\\rho_{ki}\\Omega_{ik})$"
   ]
  },
  {
   "cell_type": "markdown",
   "metadata": {},
   "source": [
    "# Rate equations"
   ]
  },
  {
   "cell_type": "markdown",
   "metadata": {},
   "source": [
    "## Near saturation case"
   ]
  },
  {
   "cell_type": "markdown",
   "metadata": {},
   "source": [
    "The rate of absorption-emission cycles is given by the scattering rate\n",
    "\n",
    "$R_{scatt}(\\delta)=\\Gamma \\rho_{22}= \\Gamma \\frac{\\Omega^2/4}{\\delta^2+\\Omega^2/2+\\Gamma^2/4}$\n",
    "\n",
    "$\\delta=-\\omega_z$ red sideband on resonance, carrier detuning $\\omega_z$, blue sideband detuning $2\\omega_z$\n",
    "\n",
    "$R_{rsb}= \\Gamma \\frac{(n) \\eta^2 \\Omega^2/4}{(n) \\eta^2 \\Omega^2/2+\\Gamma^2/4} \\simeq \\Gamma$\n",
    "\n",
    "$R_{bsb}= \\Gamma \\frac{(n+1) \\eta^2 \\Omega^2/4}{\\omega_z^2+(n+1) \\eta^2 \\Omega^2/2+\\Gamma^2/4} \\simeq \\Gamma \\frac{(n+1) \\eta^2 \\Omega^2/4}{\\omega_z^2+(n+1) \\eta^2 \\Omega^2/2}$\n",
    "\n",
    "$R_{carrier}= \\Gamma \\frac{ \\Omega^2/4}{4 \\omega_z^2+ \\Omega^2/2+\\Gamma^2/4} \\simeq \\Gamma \\frac{ \\Omega^2/4}{4 \\omega_z^2+\\eta^2 \\Omega^2/2}$"
   ]
  },
  {
   "cell_type": "markdown",
   "metadata": {},
   "source": [
    "Denote $P_n$ the population of $\\mid g,n \\rangle $. In the Lamb-Dicke limit \n",
    "\n",
    "$\\frac{d P_n}{dt}=A_{1}P_{n-1}+A_{2}P_{n+1}-A_{3} P_n-A_{4}Pn$"
   ]
  },
  {
   "cell_type": "markdown",
   "metadata": {},
   "source": [
    "where $ A_{1} = R_{bsb}+R_{carrier}\\eta'^2= \\Gamma \\frac{ n\\eta^2 \\Omega^2/4}{\\omega_z^2+n \\eta^2 \\Omega^2/2}+\\Gamma \\eta'^2\\frac{ \\Omega^2/4}{4 \\omega_z^2+\\eta^2 \\Omega^2/2}$\n",
    "\n",
    "$ A_{2}=R_{rsb}+R_{carrier}\\eta'^2=\\Gamma +\\Gamma \\eta'^2\\frac{ \\Omega^2/4}{4 \\omega_z^2+\\eta^2 \\Omega^2/2}$\n",
    "\n",
    "$ A_{3} = R_{bsb}+R_{carrier}\\eta'^2= \\Gamma \\frac{ (n+1)\\eta^2 \\Omega^2/4}{\\omega_z^2+(n+1) \\eta^2 \\Omega^2/2}+\\Gamma \\eta'^2\\frac{ \\Omega^2/4}{4 \\omega_z^2+\\eta^2 \\Omega^2/2}$\n",
    "\n",
    "$ A_{4}=R_{rsb}+R_{carrier}\\eta'^2=\\Gamma +\\Gamma \\eta'^2\\frac{ \\Omega^2/4}{4 \\omega_z^2+\\eta^2 \\Omega^2/2}$\n",
    "\n",
    "\n",
    "\n",
    "Define the average excitation number $\\langle n \\rangle =\\sum_{n=0}^{\\infty} n P_n$\n",
    "\n",
    "$\\frac{d\\langle n\\rangle}{dt}=...=(A_1-A_3)\\langle n\\rangle +\\sum_n(A_1-A_2)P_n=-B_1\\langle n\\rangle +B_2$\n",
    "\n"
   ]
  },
  {
   "cell_type": "markdown",
   "metadata": {},
   "source": [
    "where $B_1=\\Gamma \\frac{ (n+1)\\eta^2 \\Omega^2/4}{\\omega_z^2+(n+1) \\eta^2 \\Omega^2/2}-\\Gamma \\frac{ n\\eta^2 \\Omega^2/4}{\\omega_z^2+n \\eta^2 \\Omega^2/2} >0$\n",
    "\n",
    "$B_2=\\Gamma \\frac{ n\\eta^2 \\Omega^2/4}{\\omega_z^2+n \\eta^2 \\Omega^2/2}-\\Gamma$"
   ]
  },
  {
   "cell_type": "markdown",
   "metadata": {},
   "source": [
    "Cooling rate given by $B_1>0$, but very small when $n$ is large.\n",
    "\n",
    "$B_{1,max}=\\Gamma \\frac{ \\eta^2 \\Omega^2/4}{\\omega_z^2+\\eta^2 \\Omega^2/2}$\n",
    "\n",
    "Steady state $\\langle n\\rangle =\\frac{B_2}{B_1}<0$"
   ]
  },
  {
   "cell_type": "markdown",
   "metadata": {},
   "source": [
    "$\\eta =0.2, \\omega_z =2\\pi \\times 500 Hz, \\Omega = 100 \\ rad/s, \\Gamma_e = 2\\pi \\times1 mHz$ (Nicholson, pp44)"
   ]
  },
  {
   "cell_type": "code",
   "execution_count": 30,
   "metadata": {
    "collapsed": false
   },
   "outputs": [
    {
     "name": "stdout",
     "output_type": "stream",
     "text": [
      "6.36929755167e-08\n"
     ]
    }
   ],
   "source": [
    "pi = 3.14\n",
    "eta = 0.2\n",
    "Omega = 100\n",
    "Gamma = 2*pi*0.001\n",
    "omega_z = 2*pi*500\n",
    "B=Gamma*(eta*Omega/2)**2/(omega_z**2+(eta*Omega)**2/2)\n",
    "print B"
   ]
  },
  {
   "cell_type": "markdown",
   "metadata": {},
   "source": [
    "Still very slow"
   ]
  },
  {
   "cell_type": "markdown",
   "metadata": {},
   "source": [
    "## Far below saturation case:"
   ]
  },
  {
   "cell_type": "markdown",
   "metadata": {},
   "source": [
    "Lamb-Dicke limit & laser power below saturation, $\\eta \\sqrt{n} \\Omega \\ll \\delta$  \n",
    "\n",
    "(Or assume precooling has lead to a good state, see below)\n",
    "\n",
    "$\\frac{d P_n}{dt}=nA_{+}P_{n-1}+(n+1)A_{-}P_{n+1}-(n+1)A_{+} P_n-nA_{-}Pn$"
   ]
  },
  {
   "cell_type": "markdown",
   "metadata": {},
   "source": [
    "where $A_{+} =\\eta^2 \\Gamma \\frac{\\Omega^2/4}{\\delta_{bsb}^2+\\Gamma^2/4}+\\eta'^2 \\Gamma\\frac{\\Omega^2/4}{\\delta_{carrier}^2+\\Gamma^2/4}$\n",
    "\n",
    "$A_{-}=\\eta^2 \\Gamma \\frac{\\Omega^2/4}{\\delta_{rsb}^2+\\Gamma^2/4}+\\eta'^2 \\Gamma\\frac{\\Omega^2/4}{\\delta_{carrier}^2+\\Gamma^2/4}$"
   ]
  },
  {
   "cell_type": "markdown",
   "metadata": {},
   "source": [
    "$\\frac{d\\langle n\\rangle}{dt}=...=-(A_{-}-A_{+})\\langle n\\rangle+A_{+} $"
   ]
  },
  {
   "cell_type": "markdown",
   "metadata": {},
   "source": [
    "Cooling: $\\delta=-\\omega_z$ red sideband on resonance, carrier detuning $\\omega_z$, blue sideband detuning $2\\omega_z$\n",
    "\n",
    "$A_{+} =\\eta^2 \\Gamma \\frac{\\Omega^2/4}{\\omega_z^2+\\Gamma^2/4}+\\eta'^2 \\Gamma\\frac{\\Omega^2/4}{4\\omega_z^2+\\Gamma^2/4}$\n",
    "\n",
    "$ A_{-}=\\eta^2 \\Gamma \\frac{\\Omega^2/4}{\\Gamma^2/4}+\\eta'^2 \\Gamma\\frac{\\Omega^2/4}{4\\omega_z^2+\\Gamma^2/4}$\n"
   ]
  },
  {
   "cell_type": "markdown",
   "metadata": {},
   "source": [
    "Cooling rate\n",
    "\n",
    "$A_{-}-A_{+}=\\eta^2 \\Gamma (\\frac{\\Omega^2}{\\Gamma^2}-\\frac{\\Omega^2/4}{\\omega_z^2+\\Gamma^2/4})=\\eta^2 \\Gamma (\\frac{\\Omega^2}{\\Gamma^2}-\\frac{s}{2})$\n",
    "\n",
    "where $s=\\frac{I}{I_{sat}}=2\\frac{\\Omega^2}{\\Gamma^2}\\frac{\\Gamma^2/4}{\\delta^2+\\Gamma^2/4}$ is the saturation parameter of $\\delta = \\omega_z$"
   ]
  },
  {
   "cell_type": "markdown",
   "metadata": {},
   "source": [
    "$\\eta =0.2, \\omega_z =2\\pi \\times 500 Hz, \\Omega = 100 \\ rad/s, \\Gamma_e = 2\\pi \\times1 mHz$ (Nicholson, pp44)"
   ]
  },
  {
   "cell_type": "code",
   "execution_count": 26,
   "metadata": {
    "collapsed": false
   },
   "outputs": [
    {
     "name": "stdout",
     "output_type": "stream",
     "text": [
      "s= 0.000507119964298 A= 63694.2675159 (Omega/Gamma)^2= 253559982.149\n"
     ]
    }
   ],
   "source": [
    "pi = 3.14\n",
    "eta = 0.2\n",
    "Omega = 100\n",
    "Gamma = 2*pi*0.001\n",
    "omega_z = 2*pi*500\n",
    "s = 2*(Omega/Gamma)**2*(Gamma**2/4)/(omega_z**2+Gamma**2/4)\n",
    "A = eta**2*Gamma*((Omega/Gamma)**2-s/2)\n",
    "print 's=',s, 'A=',A, '(Omega/Gamma)^2=', (Omega/Gamma)**2"
   ]
  },
  {
   "cell_type": "markdown",
   "metadata": {
    "collapsed": true
   },
   "source": [
    "Obviously, the red sideband scattering rate is overestimated in this easy case.\n",
    "\n",
    "Otherwise can we broaden the excited state to make $Gamma$ larger?\n",
    "\n",
    "Moreover, the condition for the good state is\n",
    "\n",
    "$\\eta \\sqrt{n} \\Omega \\ll \\omega_z, \\Gamma$\n",
    "\n",
    "$n  \\ll (\\frac{\\Gamma}{\\Omega \\eta})^2$"
   ]
  },
  {
   "cell_type": "code",
   "execution_count": 20,
   "metadata": {
    "collapsed": false
   },
   "outputs": [
    {
     "data": {
      "text/plain": [
       "1.577536e-10"
      ]
     },
     "execution_count": 20,
     "metadata": {},
     "output_type": "execute_result"
    }
   ],
   "source": [
    "(Gamma/Omega*eta)**2"
   ]
  },
  {
   "cell_type": "markdown",
   "metadata": {},
   "source": [
    "Ridiculous!\n",
    "\n",
    "Steady state \n",
    "\n",
    "$\\langle n\\rangle=\\frac{A_{+}}{A_{-}-A_{+}}\\simeq \\frac{\\frac{5}{4}\\frac{\\Omega^2/4}{\\omega_z^2}}{ \\frac{\\Omega^2}{\\Gamma^2}-\\frac{\\Omega^2/4}{\\omega_z^2}}=\\frac{5/4}{4\\frac{\\omega_z^2}{\\Gamma^2}-1}$"
   ]
  },
  {
   "cell_type": "code",
   "execution_count": 31,
   "metadata": {
    "collapsed": false
   },
   "outputs": [
    {
     "data": {
      "text/plain": [
       "1.000000000001e-12"
      ]
     },
     "execution_count": 31,
     "metadata": {},
     "output_type": "execute_result"
    }
   ],
   "source": [
    "5/4/((2*omega_z/Gamma)**2-1)"
   ]
  },
  {
   "cell_type": "markdown",
   "metadata": {},
   "source": [
    "Very good"
   ]
  },
  {
   "cell_type": "markdown",
   "metadata": {},
   "source": [
    "# Spectroscopy to estimate the final average excitation"
   ]
  },
  {
   "cell_type": "markdown",
   "metadata": {},
   "source": [
    "Thermal distribution of harmonic oscillator:\n",
    "\n",
    "$T=\\frac{\\hbar \\omega_z}{k_B ln(\\frac{\\bar{n}+1}{\\bar{n}})}$\n",
    "\n",
    "Density matrix\n",
    "\n",
    "$\\rho=\\frac{1}{\\bar{n}+1} \\sum_{n=0}^{\\infty} (\\frac{\\bar{n}}{\\bar{n}+1})^n \\mid n\\rangle \\langle n \\mid$"
   ]
  }
 ],
 "metadata": {
  "kernelspec": {
   "display_name": "Python 2",
   "language": "python",
   "name": "python2"
  },
  "language_info": {
   "codemirror_mode": {
    "name": "ipython",
    "version": 2
   },
   "file_extension": ".py",
   "mimetype": "text/x-python",
   "name": "python",
   "nbconvert_exporter": "python",
   "pygments_lexer": "ipython2",
   "version": "2.7.6"
  }
 },
 "nbformat": 4,
 "nbformat_minor": 0
}
