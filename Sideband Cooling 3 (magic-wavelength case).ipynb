{
 "cells": [
  {
   "cell_type": "markdown",
   "metadata": {},
   "source": [
    "# Optical Bloch equations"
   ]
  },
  {
   "cell_type": "markdown",
   "metadata": {},
   "source": [
    "$H_{int}^I=\\frac{\\hbar \\Omega}{2} \\sigma_{+} e^{i \\eta (a e^{-i\\omega_zt}+a^+ e^{i\\omega_zt})}e^{i(-\\delta t+\\phi)}+h.c.$"
   ]
  },
  {
   "cell_type": "markdown",
   "metadata": {},
   "source": [
    "Back to the Schrodinger picture\n",
    "\n",
    "$H_{int}=\\frac{\\hbar \\Omega}{2} (\\sigma_{+} e^{i(\\eta (a+a^+)-\\omega_C t+\\phi)}+\\sigma_{-}e^{-i(\\eta (a+a^+)-\\omega_C t+\\phi)})$\n"
   ]
  },
  {
   "cell_type": "markdown",
   "metadata": {},
   "source": [
    "The total hamiltonian is \n",
    "\n",
    "$H=H^{(m)}+H^{(e)}+H^{(i)}= \\hbar \\omega_z (a^{+}a+\\frac{1}{2})+\\hbar \\frac{\\omega}{2} \\sigma_z+ \\frac{\\hbar \\Omega}{2} (\\sigma_{+} e^{i(\\eta (a+a^+)-\\omega_C t+\\phi)}+\\sigma_{-}e^{-i(\\eta (a+a^+)-\\omega_C t+\\phi)})$\n",
    "\n",
    "To a frame rotating with the laser frequency $\\omega_C$, defined by $U_C=e^{-i\\frac{\\omega_C}{2} \\sigma_z t}$. The transformed hamiltonian is \n",
    "\n",
    "$\\tilde{H}=U_C^+HU_C-\\hbar \\frac{\\omega_C}{2} \\sigma_z = \\hbar \\omega_z (a^{+}a+\\frac{1}{2})-\\hbar \\frac{\\delta}{2} \\sigma_z+ \\frac{\\hbar \\Omega}{2} (\\sigma_{+} e^{i(\\eta (a+a^+)+\\phi)}+\\sigma_{-}e^{-i(\\eta (a+a^+)+\\phi)})$\n",
    "\n",
    "where $\\delta=\\omega_C-\\omega$ is the detuning."
   ]
  },
  {
   "cell_type": "markdown",
   "metadata": {},
   "source": [
    "Effective Rabi frequency\n",
    "\n",
    "$\\Omega_{m, n}=\\Omega \\langle m \\mid e^{i\\eta (a+a^+)}\\mid n \\rangle = \\Omega_{n, m}$"
   ]
  },
  {
   "cell_type": "markdown",
   "metadata": {},
   "source": [
    "The transformed density matrix $\\tilde{\\rho}=U_C^+\\rho U_C$ satisfies the same master equation (Denote $\\tilde{\\rho}=\\rho$ in the following)\n",
    "\n",
    "$\\frac{d \\rho}{dt}=-\\frac{i}{\\hbar}[\\tilde{H}, \\rho]+L^d \\rho$\n",
    "\n",
    "where $L^d \\rho=\\frac{\\Gamma}{2}\\{ 2\\sigma^-  \\tilde{\\rho} \\sigma^+ -\\sigma^+ \\sigma^-  \\rho - \\rho \\sigma^+ \\sigma^- \\}$\n",
    "\n",
    "$\\tilde{\\rho} = \\frac{1}{2} \\int_{-1}^1 du Y(u) e^{i \\eta (a+a^+) u} \\rho e^{-i \\eta (a+a^+) u}$\n",
    "\n",
    "$Y(u)=\\frac{3}{4}(1+u^2)$ accounts for the angular distribution pattern of spontaneous emission for a dipole transition "
   ]
  },
  {
   "cell_type": "markdown",
   "metadata": {},
   "source": [
    "Then ($i, j, k,\\in \\{ e, g\\}, \\ n, m, l, f \\in \\{ 0,1,2,...\\}$)\n",
    "\n",
    "$\\langle i,n \\mid[\\tilde{H}, \\rho] \\mid j, m \\rangle = \\hbar \\omega_z (n-m) \\{ \\langle i,n \\mid \\rho \\mid j, m \\rangle -\\hbar \\frac{\\delta}{2} \\{ \\langle e,n \\mid \\rho \\mid j, m \\rangle \\delta_{ie}- \\langle g,n \\mid \\rho \\mid j, m \\rangle \\delta_{ig}  -\\langle i,n \\mid \\rho \\mid e, m \\rangle  \\delta_{je} +\\langle i,n \\mid \\rho \\mid g, m \\rangle \\delta_{jg} \\}+\\\\\n",
    "\\frac{\\hbar}{2} \\sum_l \\{  \\Omega_{nl} \\langle g,l \\mid \\rho \\mid j, m \\rangle \\delta_{ie}+\\Omega^*_{ nl} \\langle e,l \\mid \\rho \\mid j, m \\rangle \\delta_{ig}-\\Omega_{l m} \\langle i,n \\mid \\rho \\mid e, l \\rangle \\delta_{jg}-\\Omega^*_{ lm} \\langle i,n \\mid \\rho \\mid g, l \\rangle \\delta_{je}\\} $"
   ]
  },
  {
   "cell_type": "markdown",
   "metadata": {},
   "source": [
    "$\\langle i,n \\mid L^d \\rho \\mid j, m \\rangle = \\frac{\\Gamma}{2}\\sum_{l,f}\\int_{-1}^1Y(u)du A_{nl}(u)A^*_{fm}(u)\\langle e,l \\mid \\rho \\mid e, f \\rangle \\delta_{ig}\\delta_{jg} -\\frac{\\Gamma}{2}  \\{  \\langle e,n \\mid \\rho \\mid j, m \\rangle \\delta_{ie}+ \\langle i,n \\mid \\rho \\mid e, m \\rangle \\delta_{je} \\} $ \n",
    "\n",
    "where $A_{mn}(u)= \\langle m \\mid e^{i\\eta (a+a^+)u}\\mid n \\rangle$\n",
    "\n",
    "(1-16-17)"
   ]
  },
  {
   "cell_type": "markdown",
   "metadata": {},
   "source": [
    "Or written explicitly, the optical Bloch equations are\n",
    "\n",
    "$\\frac{d \\langle e,n \\mid \\rho \\mid e, m \\rangle}{dt}= -i\\omega_z (n-m) \\{ \\langle e,n \\mid \\rho \\mid e, m \\rangle -\\frac{i}{2} \\sum_l \\{  \\Omega_{n l} \\langle g,l \\mid \\rho \\mid e, m \\rangle -\\Omega^*_{l m} \\langle e,n \\mid \\rho \\mid g, l \\rangle \\} -\\Gamma  \\{  \\langle e,n \\mid \\rho \\mid e, m \\rangle  \\}$\n",
    "\n",
    "$\\frac{d \\langle g,n \\mid \\rho \\mid g, m \\rangle}{dt} = -i\\omega_z (n-m) \\{ \\langle g,n \\mid \\rho \\mid g, m \\rangle-\\frac{i}{2} \\sum_l \\{  \\Omega^*_{n l} \\langle e,l \\mid \\rho \\mid g, m \\rangle -\\Omega_{l m} \\langle g,n \\mid \\rho \\mid e, l \\rangle \\} +\\frac{\\Gamma}{2}\\sum_{l,f}\\int_{-1}^1 du Y(u) A_{nl}(u)A^*_{fm}(u)\\langle e,l \\mid \\rho \\mid e, f \\rangle$\n",
    "\n",
    "$\\frac{d \\langle e,n \\mid \\rho \\mid g, m \\rangle}{dt} = -i\\{\\omega_z (n-m)- \\delta  \\}\\langle e,n \\mid \\rho \\mid g, m \\rangle  -\\frac{i}{2} \\sum_l \\{  \\Omega_{n l} \\langle g,l \\mid \\rho \\mid g, m \\rangle -\\Omega_{l m} \\langle e,n \\mid \\rho \\mid e, l \\rangle \\}-\\frac{\\Gamma}{2} \\{  \\langle e,n \\mid \\rho \\mid g, m \\rangle  \\}$\n",
    "\n",
    "$\\frac{d \\langle g,n \\mid \\rho \\mid e, m \\rangle}{dt} = i\\{-\\omega_z (n-m) - \\delta\\}  \\langle g,n \\mid \\rho \\mid e, m \\rangle  -\\frac{i}{2} \\sum_l \\{  \\Omega^*_{n l} \\langle e,l \\mid \\rho \\mid e, m \\rangle -\\Omega^*_{l m} \\langle g,n \\mid \\rho \\mid g, l \\rangle \\}-\\frac{\\Gamma}{2}  \\{  \\langle g,n \\mid \\rho \\mid e,m \\rangle  \\}$ \n",
    "\n",
    "(1-16-17)"
   ]
  },
  {
   "cell_type": "markdown",
   "metadata": {},
   "source": [
    "If define an effective spontaneous decay\n",
    "\n",
    "$\\Gamma_{nl,mf}=\\Gamma \\frac{1}{2}\\int_{-1}^1 du Y(u) A_{nl}(u)A^*_{fm}(u)$\n",
    "\n",
    "The optical Bloch equations are\n",
    "\n",
    "$\\frac{d \\langle e,n \\mid \\rho \\mid e, m \\rangle}{dt}= -i\\omega_z (n-m) \\{ \\langle e,n \\mid \\rho \\mid e, m \\rangle -\\frac{i}{2} \\sum_l \\{  \\Omega_{n l} \\langle g,l \\mid \\rho \\mid e, m \\rangle -\\Omega^*_{l m} \\langle e,n \\mid \\rho \\mid g, l \\rangle \\} -\\Gamma  \\{  \\langle e,n \\mid \\rho \\mid e, m \\rangle  \\}$\n",
    "\n",
    "$\\frac{d \\langle g,n \\mid \\rho \\mid g, m \\rangle}{dt} = -i\\omega_z (n-m) \\{ \\langle g,n \\mid \\rho \\mid g, m \\rangle-\\frac{i}{2} \\sum_l \\{  \\Omega^*_{n l} \\langle e,l \\mid \\rho \\mid g, m \\rangle -\\Omega_{l m} \\langle g,n \\mid \\rho \\mid e, l \\rangle \\} +\\sum_{l,f} \\Gamma_{nl, mf}\\langle e,l \\mid \\rho \\mid e, f \\rangle$\n",
    "\n",
    "$\\frac{d \\langle e,n \\mid \\rho \\mid g, m \\rangle}{dt} = -i\\{\\omega_z (n-m)- \\delta  \\}\\langle e,n \\mid \\rho \\mid g, m \\rangle  -\\frac{i}{2} \\sum_l \\{  \\Omega_{n l} \\langle g,l \\mid \\rho \\mid g, m \\rangle -\\Omega_{l m} \\langle e,n \\mid \\rho \\mid e, l \\rangle \\}-\\frac{\\Gamma}{2} \\{  \\langle e,n \\mid \\rho \\mid g, m \\rangle  \\}$\n",
    "\n",
    "$\\frac{d \\langle g,n \\mid \\rho \\mid e, m \\rangle}{dt} = i\\{-\\omega_z (n-m) - \\delta\\}  \\langle g,n \\mid \\rho \\mid e, m \\rangle  -\\frac{i}{2} \\sum_l \\{  \\Omega^*_{n l} \\langle e,l \\mid \\rho \\mid e, m \\rangle -\\Omega^*_{l m} \\langle g,n \\mid \\rho \\mid g, l \\rangle \\}-\\frac{\\Gamma}{2}  \\{  \\langle g,n \\mid \\rho \\mid e,m \\rangle  \\}$ \n"
   ]
  },
  {
   "cell_type": "markdown",
   "metadata": {},
   "source": [
    "Note from Javanainen 84\n",
    "\n",
    "In order to preserve the conservation of probability in the truncated Hilbert space\n",
    "\n",
    "$\\frac{d \\langle e,n \\mid \\rho \\mid e, m \\rangle}{dt}= -i\\omega_z (n-m) \\{ \\langle e,n \\mid \\rho \\mid e, m \\rangle -\\frac{i}{2} \\sum_l \\{  \\Omega_{n l} \\langle g,l \\mid \\rho \\mid e, m \\rangle -\\Omega^*_{l m} \\langle e,n \\mid \\rho \\mid g, l \\rangle \\} -\\Gamma  \\{  \\langle e,n \\mid \\rho \\mid e, m \\rangle  \\}$\n",
    "\n",
    "is replaced by\n",
    "\n",
    "$\\frac{d \\langle e,n \\mid \\rho \\mid e, m \\rangle}{dt}= -i\\omega_z (n-m) \\{ \\langle e,n \\mid \\rho \\mid e, m \\rangle -\\frac{i}{2} \\sum_l \\{  \\Omega_{n l} \\langle g,l \\mid \\rho \\mid e, m \\rangle -\\Omega^*_{l m} \\langle e,n \\mid \\rho \\mid g, l \\rangle \\} - \\frac{1}{2} (\\Gamma_n + \\Gamma_m) \\{  \\langle e,n \\mid \\rho \\mid e, m \\rangle  \\}$\n",
    "\n",
    "where \n",
    "\n",
    "$\\Gamma_n = \\sum_{l \\le N_{max}} \\Gamma_{n l, nl}$\n",
    "\n",
    "If $N_{max} \\rightarrow \\infty, \\Gamma_n \\rightarrow \\Gamma \\frac{1}{2}\\int_{-1}^1 du Y(u) = \\Gamma$\n"
   ]
  },
  {
   "cell_type": "markdown",
   "metadata": {},
   "source": [
    "Try to achieve Rabi oscillation\n",
    "\n",
    "The optical Bloch equations are ($n = m =0$)\n",
    "\n",
    "$\\frac{d \\langle e \\mid \\rho \\mid e \\rangle}{dt}= -\\frac{i}{2} \\{  \\Omega^{'}\\langle g\\mid \\rho \\mid e \\rangle -\\Omega^{'*} \\langle e \\mid \\rho \\mid g \\rangle \\} -\\Gamma  \\{  \\langle e\\mid \\rho \\mid e \\rangle \\}$\n",
    "\n",
    "$\\frac{d \\langle g\\mid \\rho \\mid g \\rangle}{dt} = -\\frac{i}{2}\\{  \\Omega^{'*} \\langle e \\mid \\rho \\mid g \\rangle -\\Omega^{'} \\langle g \\mid \\rho \\mid e \\rangle \\} +\\Gamma^{'} \\langle e \\mid \\rho \\mid e \\rangle$\n",
    "\n",
    "$\\frac{d \\langle e \\mid \\rho \\mid g\\rangle}{dt} = i \\delta  \\langle e \\mid \\rho \\mid g \\rangle  -\\frac{i}{2}  \\{  \\Omega^{'} \\langle g \\mid \\rho \\mid g \\rangle -\\Omega^{'} \\langle e \\mid \\rho \\mid e \\rangle \\}-\\frac{\\Gamma}{2} \\{  \\langle e \\mid \\rho \\mid g \\rangle  \\}$\n",
    "\n",
    "$\\frac{d \\langle g \\mid \\rho \\mid e \\rangle}{dt} = -i \\delta  \\langle g \\mid \\rho \\mid e\\rangle  -\\frac{i}{2} \\{  \\Omega^{'} \\langle e \\mid \\rho \\mid e \\rangle -\\Omega^{'} \\langle g \\mid \\rho \\mid g\\rangle \\}-\\frac{\\Gamma}{2}  \\{  \\langle g \\mid \\rho \\mid e \\rangle  \\}$"
   ]
  },
  {
   "cell_type": "markdown",
   "metadata": {},
   "source": [
    "where\n",
    "\n",
    "$\\Omega^{'}=\\Omega \\mid \\langle 1 \\mid e^{i\\eta (a+a^+)}\\mid 1 \\rangle \\mid \\simeq \\Omega$ (wrong)\n",
    "\n",
    "$\\Gamma^{'}=\\Gamma \\frac{1}{2}\\int_{-1}^1 du Y(u) |\\langle 1 \\mid e^{i\\eta (a+a^+)u}\\mid 1 \\rangle |^2 \\simeq \\Gamma \\frac{1}{2}\\int_{-1}^1 du Y(u)=\\Gamma$ (wrong)\n",
    "\n",
    "looks reasonable"
   ]
  },
  {
   "cell_type": "markdown",
   "metadata": {},
   "source": [
    "For n=0,1 system\n",
    "\n",
    "$\\frac{d \\langle e,0 \\mid \\rho \\mid e, 0 \\rangle}{dt}= -\\frac{i}{2} \\sum_l \\{  \\Omega_{n l} \\langle g,l \\mid \\rho \\mid e, m \\rangle -\\Omega^*_{l m} \\langle e,n \\mid \\rho \\mid g, l \\rangle \\} - \\frac{1}{2} (\\Gamma_n + \\Gamma_m) \\{  \\langle e,n \\mid \\rho \\mid e, m \\rangle  \\}$\n",
    "\n",
    "$\\frac{d \\langle g,n \\mid \\rho \\mid g, m \\rangle}{dt} = -i\\omega_z (n-m) \\{ \\langle g,n \\mid \\rho \\mid g, m \\rangle-\\frac{i}{2} \\sum_l \\{  \\Omega^*_{n l} \\langle e,l \\mid \\rho \\mid g, m \\rangle -\\Omega_{l m} \\langle g,n \\mid \\rho \\mid e, l \\rangle \\} +\\sum_{l,f} \\Gamma_{nl, mf}\\langle e,l \\mid \\rho \\mid e, f \\rangle$\n",
    "\n",
    "$\\frac{d \\langle e,n \\mid \\rho \\mid g, m \\rangle}{dt} = -i\\{\\omega_z (n-m)- \\delta  \\}\\langle e,n \\mid \\rho \\mid g, m \\rangle  -\\frac{i}{2} \\sum_l \\{  \\Omega_{n l} \\langle g,l \\mid \\rho \\mid g, m \\rangle -\\Omega_{l m} \\langle e,n \\mid \\rho \\mid e, l \\rangle \\}-\\frac{\\Gamma}{2} \\{  \\langle e,n \\mid \\rho \\mid g, m \\rangle  \\}$\n",
    "\n",
    "$\\frac{d \\langle g,n \\mid \\rho \\mid e, m \\rangle}{dt} = i\\{-\\omega_z (n-m) - \\delta\\}  \\langle g,n \\mid \\rho \\mid e, m \\rangle  -\\frac{i}{2} \\sum_l \\{  \\Omega^*_{n l} \\langle e,l \\mid \\rho \\mid e, m \\rangle -\\Omega^*_{l m} \\langle g,n \\mid \\rho \\mid g, l \\rangle \\}-\\frac{\\Gamma}{2}  \\{  \\langle g,n \\mid \\rho \\mid e,m \\rangle  \\}$ \n",
    "\n",
    "$\\frac{d \\langle e,n \\mid \\rho \\mid e, m \\rangle}{dt}= -i\\omega_z (n-m) \\{ \\langle e,n \\mid \\rho \\mid e, m \\rangle -\\frac{i}{2} \\sum_l \\{  \\Omega_{n l} \\langle g,l \\mid \\rho \\mid e, m \\rangle -\\Omega^*_{l m} \\langle e,n \\mid \\rho \\mid g, l \\rangle \\} - \\frac{1}{2} (\\Gamma_n + \\Gamma_m) \\{  \\langle e,n \\mid \\rho \\mid e, m \\rangle  \\}$\n",
    "\n",
    "$\\frac{d \\langle g,n \\mid \\rho \\mid g, m \\rangle}{dt} = -i\\omega_z (n-m) \\{ \\langle g,n \\mid \\rho \\mid g, m \\rangle-\\frac{i}{2} \\sum_l \\{  \\Omega^*_{n l} \\langle e,l \\mid \\rho \\mid g, m \\rangle -\\Omega_{l m} \\langle g,n \\mid \\rho \\mid e, l \\rangle \\} +\\sum_{l,f} \\Gamma_{nl, mf}\\langle e,l \\mid \\rho \\mid e, f \\rangle$\n",
    "\n",
    "$\\frac{d \\langle e,n \\mid \\rho \\mid g, m \\rangle}{dt} = -i\\{\\omega_z (n-m)- \\delta  \\}\\langle e,n \\mid \\rho \\mid g, m \\rangle  -\\frac{i}{2} \\sum_l \\{  \\Omega_{n l} \\langle g,l \\mid \\rho \\mid g, m \\rangle -\\Omega_{l m} \\langle e,n \\mid \\rho \\mid e, l \\rangle \\}-\\frac{\\Gamma}{2} \\{  \\langle e,n \\mid \\rho \\mid g, m \\rangle  \\}$\n",
    "\n",
    "$\\frac{d \\langle g,n \\mid \\rho \\mid e, m \\rangle}{dt} = i\\{-\\omega_z (n-m) - \\delta\\}  \\langle g,n \\mid \\rho \\mid e, m \\rangle  -\\frac{i}{2} \\sum_l \\{  \\Omega^*_{n l} \\langle e,l \\mid \\rho \\mid e, m \\rangle -\\Omega^*_{l m} \\langle g,n \\mid \\rho \\mid g, l \\rangle \\}-\\frac{\\Gamma}{2}  \\{  \\langle g,n \\mid \\rho \\mid e,m \\rangle  \\}$ "
   ]
  },
  {
   "cell_type": "code",
   "execution_count": null,
   "metadata": {
    "collapsed": true
   },
   "outputs": [],
   "source": []
  },
  {
   "cell_type": "markdown",
   "metadata": {},
   "source": [
    "# Rate equations"
   ]
  },
  {
   "cell_type": "markdown",
   "metadata": {},
   "source": [
    "## Near saturation case"
   ]
  },
  {
   "cell_type": "markdown",
   "metadata": {},
   "source": [
    "The rate of absorption-emission cycles is given by the scattering rate\n",
    "\n",
    "$R_{scatt}(\\delta)=\\Gamma \\rho_{22}= \\Gamma \\frac{\\Omega^2/4}{\\delta^2+\\Omega^2/2+\\Gamma^2/4}$\n",
    "\n",
    "$\\delta=-\\omega_z$ red sideband on resonance, carrier detuning $\\omega_z$, blue sideband detuning $2\\omega_z$\n",
    "\n",
    "$R_{rsb}= \\Gamma \\frac{(n) \\eta^2 \\Omega^2/4}{(n) \\eta^2 \\Omega^2/2+\\Gamma^2/4} \\simeq \\Gamma$\n",
    "\n",
    "$R_{bsb}= \\Gamma \\frac{(n+1) \\eta^2 \\Omega^2/4}{\\omega_z^2+(n+1) \\eta^2 \\Omega^2/2+\\Gamma^2/4} \\simeq \\Gamma \\frac{(n+1) \\eta^2 \\Omega^2/4}{\\omega_z^2+(n+1) \\eta^2 \\Omega^2/2}$\n",
    "\n",
    "$R_{carrier}= \\Gamma \\frac{ \\Omega^2/4}{4 \\omega_z^2+ \\Omega^2/2+\\Gamma^2/4} \\simeq \\Gamma \\frac{ \\Omega^2/4}{4 \\omega_z^2+\\eta^2 \\Omega^2/2}$"
   ]
  },
  {
   "cell_type": "markdown",
   "metadata": {},
   "source": [
    "Denote $P_n$ the population of $\\mid g,n \\rangle $. In the Lamb-Dicke limit \n",
    "\n",
    "$\\frac{d P_n}{dt}=A_{1}P_{n-1}+A_{2}P_{n+1}-A_{3} P_n-A_{4}Pn$"
   ]
  },
  {
   "cell_type": "markdown",
   "metadata": {},
   "source": [
    "where $ A_{1} = R_{bsb}+R_{carrier}\\eta'^2= \\Gamma \\frac{ n\\eta^2 \\Omega^2/4}{\\omega_z^2+n \\eta^2 \\Omega^2/2}+\\Gamma \\eta'^2\\frac{ \\Omega^2/4}{4 \\omega_z^2+\\eta^2 \\Omega^2/2}$\n",
    "\n",
    "$ A_{2}=R_{rsb}+R_{carrier}\\eta'^2=\\Gamma +\\Gamma \\eta'^2\\frac{ \\Omega^2/4}{4 \\omega_z^2+\\eta^2 \\Omega^2/2}$\n",
    "\n",
    "$ A_{3} = R_{bsb}+R_{carrier}\\eta'^2= \\Gamma \\frac{ (n+1)\\eta^2 \\Omega^2/4}{\\omega_z^2+(n+1) \\eta^2 \\Omega^2/2}+\\Gamma \\eta'^2\\frac{ \\Omega^2/4}{4 \\omega_z^2+\\eta^2 \\Omega^2/2}$\n",
    "\n",
    "$ A_{4}=R_{rsb}+R_{carrier}\\eta'^2=\\Gamma +\\Gamma \\eta'^2\\frac{ \\Omega^2/4}{4 \\omega_z^2+\\eta^2 \\Omega^2/2}$\n",
    "\n",
    "\n",
    "\n",
    "Define the average excitation number $\\langle n \\rangle =\\sum_{n=0}^{\\infty} n P_n$\n",
    "\n",
    "$\\frac{d\\langle n\\rangle}{dt}=...=(A_1-A_3)\\langle n\\rangle +\\sum_n(A_1-A_2)P_n=-B_1\\langle n\\rangle +B_2$\n",
    "\n"
   ]
  },
  {
   "cell_type": "markdown",
   "metadata": {},
   "source": [
    "where $B_1=\\Gamma \\frac{ (n+1)\\eta^2 \\Omega^2/4}{\\omega_z^2+(n+1) \\eta^2 \\Omega^2/2}-\\Gamma \\frac{ n\\eta^2 \\Omega^2/4}{\\omega_z^2+n \\eta^2 \\Omega^2/2} >0$\n",
    "\n",
    "$B_2=\\Gamma \\frac{ n\\eta^2 \\Omega^2/4}{\\omega_z^2+n \\eta^2 \\Omega^2/2}-\\Gamma$"
   ]
  },
  {
   "cell_type": "markdown",
   "metadata": {},
   "source": [
    "Cooling rate given by $B_1>0$, but very small when $n$ is large.\n",
    "\n",
    "$B_{1,max}=\\Gamma \\frac{ \\eta^2 \\Omega^2/4}{\\omega_z^2+\\eta^2 \\Omega^2/2}$\n",
    "\n",
    "Steady state $\\langle n\\rangle =\\frac{B_2}{B_1}<0$"
   ]
  },
  {
   "cell_type": "markdown",
   "metadata": {},
   "source": [
    "$\\eta =0.2, \\omega_z =2\\pi \\times 500 Hz, \\Omega = 100 \\ rad/s, \\Gamma_e = 2\\pi \\times1 mHz$ (Nicholson, pp44)"
   ]
  },
  {
   "cell_type": "code",
   "execution_count": 30,
   "metadata": {
    "collapsed": false
   },
   "outputs": [
    {
     "name": "stdout",
     "output_type": "stream",
     "text": [
      "6.36929755167e-08\n"
     ]
    }
   ],
   "source": [
    "pi = 3.14\n",
    "eta = 0.2\n",
    "Omega = 100\n",
    "Gamma = 2*pi*0.001\n",
    "omega_z = 2*pi*500\n",
    "B=Gamma*(eta*Omega/2)**2/(omega_z**2+(eta*Omega)**2/2)\n",
    "print B"
   ]
  },
  {
   "cell_type": "markdown",
   "metadata": {},
   "source": [
    "Still very slow"
   ]
  },
  {
   "cell_type": "markdown",
   "metadata": {},
   "source": [
    "## Far below saturation case"
   ]
  },
  {
   "cell_type": "markdown",
   "metadata": {},
   "source": [
    "Lamb-Dicke limit & laser power below saturation, $\\eta \\sqrt{n} \\Omega \\ll \\delta$  \n",
    "\n",
    "(Or assume precooling has lead to a good state, see below)\n",
    "\n",
    "$\\frac{d P_n}{dt}=nA_{+}P_{n-1}+(n+1)A_{-}P_{n+1}-(n+1)A_{+} P_n-nA_{-}Pn$"
   ]
  },
  {
   "cell_type": "markdown",
   "metadata": {},
   "source": [
    "where $A_{+} =\\eta^2 \\Gamma \\frac{\\Omega^2/4}{\\delta_{bsb}^2+\\Gamma^2/4}+\\eta'^2 \\Gamma\\frac{\\Omega^2/4}{\\delta_{carrier}^2+\\Gamma^2/4}$\n",
    "\n",
    "$A_{-}=\\eta^2 \\Gamma \\frac{\\Omega^2/4}{\\delta_{rsb}^2+\\Gamma^2/4}+\\eta'^2 \\Gamma\\frac{\\Omega^2/4}{\\delta_{carrier}^2+\\Gamma^2/4}$"
   ]
  },
  {
   "cell_type": "markdown",
   "metadata": {},
   "source": [
    "$\\frac{d\\langle n\\rangle}{dt}=...=-(A_{-}-A_{+})\\langle n\\rangle+A_{+} $"
   ]
  },
  {
   "cell_type": "markdown",
   "metadata": {},
   "source": [
    "Cooling: $\\delta=-\\omega_z$ red sideband on resonance, carrier detuning $\\omega_z$, blue sideband detuning $2\\omega_z$\n",
    "\n",
    "$A_{+} =\\eta^2 \\Gamma \\frac{\\Omega^2/4}{\\omega_z^2+\\Gamma^2/4}+\\eta'^2 \\Gamma\\frac{\\Omega^2/4}{4\\omega_z^2+\\Gamma^2/4}$\n",
    "\n",
    "$ A_{-}=\\eta^2 \\Gamma \\frac{\\Omega^2/4}{\\Gamma^2/4}+\\eta'^2 \\Gamma\\frac{\\Omega^2/4}{4\\omega_z^2+\\Gamma^2/4}$\n"
   ]
  },
  {
   "cell_type": "markdown",
   "metadata": {},
   "source": [
    "Cooling rate\n",
    "\n",
    "$A_{-}-A_{+}=\\eta^2 \\Gamma (\\frac{\\Omega^2}{\\Gamma^2}-\\frac{\\Omega^2/4}{\\omega_z^2+\\Gamma^2/4})=\\eta^2 \\Gamma (\\frac{\\Omega^2}{\\Gamma^2}-\\frac{s}{2})$\n",
    "\n",
    "where $s=\\frac{I}{I_{sat}}=2\\frac{\\Omega^2}{\\Gamma^2}\\frac{\\Gamma^2/4}{\\delta^2+\\Gamma^2/4}$ is the saturation parameter of $\\delta = \\omega_z$"
   ]
  },
  {
   "cell_type": "markdown",
   "metadata": {},
   "source": [
    "$\\eta =0.2, \\omega_z =2\\pi \\times 500 Hz, \\Omega = 100 \\ rad/s, \\Gamma_e = 2\\pi \\times1 mHz$ (Nicholson, pp44)"
   ]
  },
  {
   "cell_type": "code",
   "execution_count": 26,
   "metadata": {
    "collapsed": false
   },
   "outputs": [
    {
     "name": "stdout",
     "output_type": "stream",
     "text": [
      "s= 0.000507119964298 A= 63694.2675159 (Omega/Gamma)^2= 253559982.149\n"
     ]
    }
   ],
   "source": [
    "pi = 3.14\n",
    "eta = 0.2\n",
    "Omega = 100\n",
    "Gamma = 2*pi*0.001\n",
    "omega_z = 2*pi*500\n",
    "s = 2*(Omega/Gamma)**2*(Gamma**2/4)/(omega_z**2+Gamma**2/4)\n",
    "A = eta**2*Gamma*((Omega/Gamma)**2-s/2)\n",
    "print 's=',s, 'A=',A, '(Omega/Gamma)^2=', (Omega/Gamma)**2"
   ]
  },
  {
   "cell_type": "markdown",
   "metadata": {
    "collapsed": true
   },
   "source": [
    "Obviously, the red sideband scattering rate is overestimated in this easy case.\n",
    "\n",
    "Otherwise can we broaden the excited state to make $Gamma$ larger?\n",
    "\n",
    "Moreover, the condition for the good state is\n",
    "\n",
    "$\\eta \\sqrt{n} \\Omega \\ll \\omega_z, \\Gamma$\n",
    "\n",
    "$n  \\ll (\\frac{\\Gamma}{\\Omega \\eta})^2$"
   ]
  },
  {
   "cell_type": "code",
   "execution_count": 20,
   "metadata": {
    "collapsed": false
   },
   "outputs": [
    {
     "data": {
      "text/plain": [
       "1.577536e-10"
      ]
     },
     "execution_count": 20,
     "metadata": {},
     "output_type": "execute_result"
    }
   ],
   "source": [
    "(Gamma/Omega*eta)**2"
   ]
  },
  {
   "cell_type": "markdown",
   "metadata": {},
   "source": [
    "Ridiculous!\n",
    "\n",
    "Steady state \n",
    "\n",
    "$\\langle n\\rangle=\\frac{A_{+}}{A_{-}-A_{+}}\\simeq \\frac{\\frac{5}{4}\\frac{\\Omega^2/4}{\\omega_z^2}}{ \\frac{\\Omega^2}{\\Gamma^2}-\\frac{\\Omega^2/4}{\\omega_z^2}}=\\frac{5/4}{4\\frac{\\omega_z^2}{\\Gamma^2}-1}$"
   ]
  },
  {
   "cell_type": "code",
   "execution_count": 31,
   "metadata": {
    "collapsed": false
   },
   "outputs": [
    {
     "data": {
      "text/plain": [
       "1.000000000001e-12"
      ]
     },
     "execution_count": 31,
     "metadata": {},
     "output_type": "execute_result"
    }
   ],
   "source": [
    "5/4/((2*omega_z/Gamma)**2-1)"
   ]
  },
  {
   "cell_type": "markdown",
   "metadata": {},
   "source": [
    "Very good"
   ]
  },
  {
   "cell_type": "markdown",
   "metadata": {},
   "source": [
    "# Spectroscopy to estimate the final average excitation"
   ]
  },
  {
   "cell_type": "markdown",
   "metadata": {},
   "source": [
    "Thermal distribution of harmonic oscillator:\n",
    "\n",
    "$T=\\frac{\\hbar \\omega_z}{k_B ln(\\frac{\\bar{n}+1}{\\bar{n}})}$\n",
    "\n",
    "Density matrix\n",
    "\n",
    "$\\rho=\\frac{1}{\\bar{n}+1} \\sum_{n=0}^{\\infty} (\\frac{\\bar{n}}{\\bar{n}+1})^n \\mid n\\rangle \\langle n \\mid$"
   ]
  },
  {
   "cell_type": "code",
   "execution_count": 46,
   "metadata": {
    "collapsed": true
   },
   "outputs": [],
   "source": [
    "###################\n",
    "# Test for the code\n",
    "###################"
   ]
  },
  {
   "cell_type": "code",
   "execution_count": 1,
   "metadata": {
    "collapsed": false
   },
   "outputs": [
    {
     "name": "stdout",
     "output_type": "stream",
     "text": [
      "[-1.         -0.97777778 -0.95555556 -0.93333333 -0.91111111 -0.88888889\n",
      " -0.86666667 -0.84444444 -0.82222222 -0.8        -0.77777778 -0.75555556\n",
      " -0.73333333 -0.71111111 -0.68888889 -0.66666667 -0.64444444 -0.62222222\n",
      " -0.6        -0.57777778 -0.55555556 -0.53333333 -0.51111111 -0.48888889\n",
      " -0.46666667 -0.44444444 -0.42222222 -0.4        -0.37777778 -0.35555556\n",
      " -0.33333333 -0.31111111 -0.28888889 -0.26666667 -0.24444444 -0.22222222\n",
      " -0.2        -0.17777778 -0.15555556 -0.13333333 -0.11111111 -0.08888889\n",
      " -0.06666667 -0.04444444 -0.02222222  0.          0.02222222  0.04444444\n",
      "  0.06666667  0.08888889  0.11111111  0.13333333  0.15555556  0.17777778\n",
      "  0.2         0.22222222  0.24444444  0.26666667  0.28888889  0.31111111\n",
      "  0.33333333  0.35555556  0.37777778  0.4         0.42222222  0.44444444\n",
      "  0.46666667  0.48888889  0.51111111  0.53333333  0.55555556  0.57777778\n",
      "  0.6         0.62222222  0.64444444  0.66666667  0.68888889  0.71111111\n",
      "  0.73333333  0.75555556  0.77777778  0.8         0.82222222  0.84444444\n",
      "  0.86666667  0.88888889  0.91111111  0.93333333  0.95555556  0.97777778\n",
      "  1.        ]\n"
     ]
    }
   ],
   "source": [
    "from numpy import *\n",
    "_thetas = r_[-1: 1: 91j]\n",
    "print _thetas"
   ]
  },
  {
   "cell_type": "code",
   "execution_count": 3,
   "metadata": {
    "collapsed": false
   },
   "outputs": [
    {
     "name": "stdout",
     "output_type": "stream",
     "text": [
      "[0 1]\n"
     ]
    }
   ],
   "source": [
    "a=array([0,1])\n",
    "print a"
   ]
  },
  {
   "cell_type": "code",
   "execution_count": 19,
   "metadata": {
    "collapsed": false
   },
   "outputs": [
    {
     "name": "stdout",
     "output_type": "stream",
     "text": [
      "[ 0.+0.j  0.+0.j  0.+0.j  0.+0.j  0.+0.j  0.+0.j]\n",
      "0j\n"
     ]
    }
   ],
   "source": [
    "from numpy import *\n",
    "n=5\n",
    "ps0 = exp(-arange(n + 1, dtype=complex128) / 10) * (1 - exp(1 / 10))\n",
    "rho0 = diag(r_[ps0, zeros(n + 1, dtype=complex128)])\n",
    "print(ps0)\n",
    "print(sum(rho0))\n",
    "#print rho0"
   ]
  },
  {
   "cell_type": "code",
   "execution_count": 22,
   "metadata": {
    "collapsed": false
   },
   "outputs": [],
   "source": [
    "def f(t,y):\n",
    "    return  array([y[1], -y[0]])"
   ]
  },
  {
   "cell_type": "code",
   "execution_count": 15,
   "metadata": {
    "collapsed": false
   },
   "outputs": [
    {
     "data": {
      "text/plain": [
       "array([0, 1, 2, 3])"
      ]
     },
     "execution_count": 15,
     "metadata": {},
     "output_type": "execute_result"
    }
   ],
   "source": [
    "arange(4)"
   ]
  },
  {
   "cell_type": "code",
   "execution_count": 25,
   "metadata": {
    "collapsed": false
   },
   "outputs": [
    {
     "name": "stdout",
     "output_type": "stream",
     "text": [
      "[140564281042968         9545840               0               0\n",
      "        18567408]\n"
     ]
    }
   ],
   "source": [
    "print b.T[0]"
   ]
  },
  {
   "cell_type": "code",
   "execution_count": 11,
   "metadata": {
    "collapsed": false
   },
   "outputs": [
    {
     "name": "stdout",
     "output_type": "stream",
     "text": [
      "[[[ 1  2  3]\n",
      "  [ 4  5  6]]\n",
      "\n",
      " [[ 1  2  3]\n",
      "  [ 4  5 10]]\n",
      "\n",
      " [[ 1  2  3]\n",
      "  [ 4  5  6]]]\n",
      "10\n",
      "[[ 3  6  9]\n",
      " [12 15 30]]\n",
      "19\n"
     ]
    }
   ],
   "source": [
    "a11 = np.array([[1, 2, 3], [4, 5, 6]], np.int32)\n",
    "a22 = np.array([[1, 2, 3], [4, 5, 10]], np.int32)\n",
    "a12 = np.array([[1, 2, 3], [4, 5, 6]], np.int32)\n",
    "a21 = np.array([[1, 2, 3], [4, 5, 6]], np.int32)\n",
    "rho=array([a11, a22, a12])\n",
    "print rho\n",
    "print rho[1][1,2]\n",
    "print 3*rho[1]\n",
    "print rho[1][1,:].sum()"
   ]
  },
  {
   "cell_type": "code",
   "execution_count": 10,
   "metadata": {
    "collapsed": false
   },
   "outputs": [
    {
     "ename": "NameError",
     "evalue": "name 'rho' is not defined",
     "output_type": "error",
     "traceback": [
      "\u001b[1;31m---------------------------------------------------------------------------\u001b[0m",
      "\u001b[1;31mNameError\u001b[0m                                 Traceback (most recent call last)",
      "\u001b[1;32m<ipython-input-10-73d43d98cccc>\u001b[0m in \u001b[0;36m<module>\u001b[1;34m()\u001b[0m\n\u001b[0;32m      1\u001b[0m \u001b[1;31m# m, n, s = rho.shape\u001b[0m\u001b[1;33m\u001b[0m\u001b[1;33m\u001b[0m\u001b[0m\n\u001b[1;32m----> 2\u001b[1;33m \u001b[0mres\u001b[0m \u001b[1;33m=\u001b[0m \u001b[0mempty\u001b[0m\u001b[1;33m(\u001b[0m\u001b[0mrho\u001b[0m\u001b[1;33m.\u001b[0m\u001b[0mshape\u001b[0m\u001b[1;33m,\u001b[0m \u001b[0mdtype\u001b[0m\u001b[1;33m=\u001b[0m\u001b[0mcomplex128\u001b[0m\u001b[1;33m)\u001b[0m\u001b[1;33m\u001b[0m\u001b[0m\n\u001b[0m\u001b[0;32m      3\u001b[0m \u001b[1;32mprint\u001b[0m \u001b[0mrho\u001b[0m\u001b[1;33m.\u001b[0m\u001b[0mshape\u001b[0m\u001b[1;33m\u001b[0m\u001b[0m\n\u001b[0;32m      4\u001b[0m \u001b[1;32mprint\u001b[0m \u001b[0mres\u001b[0m\u001b[1;33m\u001b[0m\u001b[0m\n",
      "\u001b[1;31mNameError\u001b[0m: name 'rho' is not defined"
     ]
    }
   ],
   "source": [
    "# m, n, s = rho.shape\n",
    "res = empty(rho.shape, dtype=complex128)\n",
    "print rho.shape\n",
    "print res"
   ]
  },
  {
   "cell_type": "code",
   "execution_count": 47,
   "metadata": {
    "collapsed": false
   },
   "outputs": [
    {
     "data": {
      "text/plain": [
       "[0, 1, 2]"
      ]
     },
     "execution_count": 47,
     "metadata": {},
     "output_type": "execute_result"
    }
   ],
   "source": [
    "range(3)"
   ]
  },
  {
   "cell_type": "code",
   "execution_count": 54,
   "metadata": {
    "collapsed": false
   },
   "outputs": [
    {
     "data": {
      "text/plain": [
       "False"
      ]
     },
     "execution_count": 54,
     "metadata": {},
     "output_type": "execute_result"
    }
   ],
   "source": [
    "2>=3"
   ]
  },
  {
   "cell_type": "code",
   "execution_count": 31,
   "metadata": {
    "collapsed": false
   },
   "outputs": [
    {
     "name": "stdout",
     "output_type": "stream",
     "text": [
      "[[ 1.+1.j  2.+2.j  3.+3.j]\n",
      " [ 4.+4.j  5.+5.j  6.+6.j]]\n",
      "[[ 1.-1.j  4.-4.j]\n",
      " [ 2.-2.j  5.-5.j]\n",
      " [ 3.-3.j  6.-6.j]]\n",
      "[[  1. +1.j   4. +4.j   9. +9.j]\n",
      " [ 16.+16.j  25.+25.j  60.+60.j]]\n",
      "(115+115j)\n"
     ]
    }
   ],
   "source": [
    "import numpy as np\n",
    "a11 = np.array([[1+1j, 2+ 2j, 3+3j], [4+4j, 5+5j, 6+6j]], dtype=complex)\n",
    "a22 = np.array([[1, 2, 3], [4, 5, 10]], dtype=complex)\n",
    "print a11\n",
    "print a11.transpose().conjugate()\n",
    "print (a11*a22)\n",
    "print (a11*a22).sum()"
   ]
  },
  {
   "cell_type": "code",
   "execution_count": 21,
   "metadata": {
    "collapsed": false
   },
   "outputs": [
    {
     "name": "stdout",
     "output_type": "stream",
     "text": [
      "[[ 0.  0.  0.]\n",
      " [ 0.  1.  0.]]\n"
     ]
    }
   ],
   "source": [
    "a=zeros([2,3])\n",
    "a[1,1]=1\n",
    "empty((1,2))\n",
    "print a"
   ]
  },
  {
   "cell_type": "code",
   "execution_count": 8,
   "metadata": {
    "collapsed": false
   },
   "outputs": [
    {
     "name": "stdout",
     "output_type": "stream",
     "text": [
      "0\n",
      "1\n",
      "8\n",
      "0 0.25\n",
      "1 0.5\n",
      "2 0.75\n",
      "3 1.0\n",
      "4 1.25\n",
      "5 1.5\n",
      "6 1.75\n",
      "7 2.0\n",
      "8 2.25\n",
      "9 2.5\n",
      "10 2.75\n"
     ]
    }
   ],
   "source": [
    "import numpy\n",
    "range(-3,3)\n",
    "2 in range(-3,3)\n",
    "for i in range(max(-3, 0), 3):\n",
    "  print (i**3)\n",
    "range(3)\n",
    "detuning = numpy.arange(0.25,3, 0.25)\n",
    "for i, delta in enumerate(detuning):\n",
    "    print i, delta"
   ]
  },
  {
   "cell_type": "code",
   "execution_count": null,
   "metadata": {
    "collapsed": true
   },
   "outputs": [],
   "source": []
  }
 ],
 "metadata": {
  "kernelspec": {
   "display_name": "Python 2",
   "language": "python",
   "name": "python2"
  },
  "language_info": {
   "codemirror_mode": {
    "name": "ipython",
    "version": 2
   },
   "file_extension": ".py",
   "mimetype": "text/x-python",
   "name": "python",
   "nbconvert_exporter": "python",
   "pygments_lexer": "ipython2",
   "version": "2.7.6"
  }
 },
 "nbformat": 4,
 "nbformat_minor": 0
}
