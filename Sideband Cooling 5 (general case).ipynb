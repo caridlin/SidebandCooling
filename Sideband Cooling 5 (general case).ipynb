{
 "cells": [
  {
   "cell_type": "markdown",
   "metadata": {},
   "source": [
    "In the general case (including non-magic wavelength and anti-trapping of the excited states)\n",
    "\n",
    "The total hamiltonian is \n",
    "\n",
    "$H=H^{(m)}+H^{(e)}+H^{(i)}= \\hbar \\omega_g (a^{+}a+\\frac{1}{2})\\mid g \\rangle \\langle g\\mid + \\hbar \\omega_e ((chr^2 + shr^2)a^{+}a -shrchr ((a^{+})^2+a^2) + \\frac{1}{2} + shr^2)\\mid e \\rangle \\langle e\\mid + \\hbar \\frac{\\omega}{2} \\sigma_z+ \\frac{\\hbar \\Omega}{2} (\\sigma_{+} e^{i(\\eta (a+a^+)-\\omega_C t + \\phi)}+\\sigma_{-}e^{-i(\\eta (a+a^+)-\\omega_C t + \\phi)})$\n",
    "\n",
    "where $chr = \\frac{1}{2} \\frac{\\omega_e + \\omega_g}{\\sqrt{\\omega_e \\omega_g}}$ defines the Bogoliubov transformation between the two basis sets\n",
    "\n",
    "To a frame rotating with the laser frequency $\\omega_C$, defined by $U_C=e^{-i\\frac{\\omega_C}{2} \\sigma_z t}$. The transformed hamiltonian is \n",
    "\n",
    "$\\tilde{H}=U_C^+HU_C-\\hbar \\frac{\\omega_C}{2} \\sigma_z =\\hbar \\omega_g (a^{+}a+\\frac{1}{2})\\mid g \\rangle \\langle g\\mid + \\hbar \\omega_e ((chr^2 + shr^2)a^{+}a -shrchr ((a^{+})^2+a^2) + \\frac{1}{2} + shr^2)\\mid e \\rangle \\langle e\\mid  -\\hbar \\frac{\\delta}{2} \\sigma_z+ \\frac{\\hbar \\Omega}{2} (\\sigma_{+} e^{i(\\eta (a+a^+)+\\phi)}+\\sigma_{-}e^{-i(\\eta (a+a^+)+\\phi)})$\n",
    "\n",
    "where $\\delta=\\omega_C-\\omega$ is the detuning."
   ]
  },
  {
   "cell_type": "markdown",
   "metadata": {},
   "source": [
    "Then ($i, j, k,\\in \\{ e, g\\}, \\ n, m, l, f \\in \\{ 0,1,2,...\\}$)\n",
    "\n",
    "$\\langle i,n \\mid[\\tilde{H}, \\rho] \\mid j, m \\rangle = \\hbar \\omega_g (n + \\frac{1}{2})  \\langle g,n \\mid \\rho \\mid j, m \\rangle \\delta_{ig} - \\hbar \\omega_g (m + \\frac{1}{2})  \\langle i,n \\mid \\rho \\mid g, m \\rangle \\delta_{jg} + \\hbar \\omega_e \\{ (chr^2 + shr^2)(n \\langle e,n \\mid \\rho \\mid j, m\\rangle \\delta_{i, e}- m \\langle i,n \\mid \\rho \\mid e, m\\rangle \\delta_{j, e}) + (\\frac{1}{2} + shr^2) (\\langle e,n \\mid \\rho \\mid j, m\\rangle \\delta_{i, e}-  \\langle i,n \\mid \\rho \\mid e, m\\rangle \\delta_{j, e}) -shrchr( \\sqrt{n(n-1)}  \\langle e,n-2 \\mid \\rho \\mid j, m \\rangle  + \\sqrt{(n+1)(n+2)}  \\langle e,n+2 \\mid \\rho \\mid j, m \\rangle ) \\delta_{ie} - ( \\sqrt{m(m-1)}  \\langle i,n \\mid \\rho \\mid e, m-2 \\rangle + \\sqrt{(m+1)(m+2)}  \\langle i,n \\mid \\rho \\mid e, m+2 \\rangle )\\delta_{je} \\}-\\hbar \\frac{\\delta}{2} \\{ \\langle e,n \\mid \\rho \\mid j, m \\rangle \\delta_{ie}- \\langle g,n \\mid \\rho \\mid j, m \\rangle \\delta_{ig}  -\\langle i,n \\mid \\rho \\mid e, m \\rangle  \\delta_{je} +\\langle i,n \\mid \\rho \\mid g, m \\rangle \\delta_{jg} \\}+\\\\\n",
    "\\frac{\\hbar}{2} \\sum_l \\{  \\Omega_{nl} \\langle g,l \\mid \\rho \\mid j, m \\rangle \\delta_{ie}+\\Omega^*_{ nl} \\langle e,l \\mid \\rho \\mid j, m \\rangle \\delta_{ig}-\\Omega_{l m} \\langle i,n \\mid \\rho \\mid e, l \\rangle \\delta_{jg}-\\Omega^*_{ lm} \\langle i,n \\mid \\rho \\mid g, l \\rangle \\delta_{je}\\} $"
   ]
  },
  {
   "cell_type": "markdown",
   "metadata": {},
   "source": [
    "If define an effective spontaneous decay\n",
    "\n",
    "$\\Gamma_{nl,mf}=\\Gamma \\frac{1}{2}\\int_{-1}^1 du Y(u) A_{nl}(u)A^*_{fm}(u)$\n",
    "\n",
    "The optical Bloch equations are\n",
    "\n",
    "$\\frac{d \\langle e,n \\mid \\rho \\mid e, m \\rangle}{dt}= -i \\omega_e \\{ (chr^2 + shr^2) (n-m)\\langle e,n \\mid \\rho \\mid e, m \\rangle -shrchr ( \\sqrt{n(n-1)}  \\langle e,n-2 \\mid \\rho \\mid e, m \\rangle + \\sqrt{(n+1)(n+2)}  \\langle e,n+2 \\mid \\rho \\mid e, m \\rangle  - \\sqrt{m(m-1)}  \\langle e,n \\mid \\rho \\mid e, m-2 \\rangle - \\sqrt{(m+1)(m+2)}  \\langle e,n \\mid \\rho \\mid e, m+2 \\rangle) \\} -\\frac{i}{2} \\sum_l \\{  \\Omega_{n l} \\langle g,l \\mid \\rho \\mid e, m \\rangle -\\Omega^*_{l m} \\langle e,n \\mid \\rho \\mid g, l \\rangle \\} -\\Gamma  \\{  \\langle e,n \\mid \\rho \\mid e, m \\rangle  \\}$\n",
    "\n",
    "$\\frac{d \\langle g,n \\mid \\rho \\mid g, m \\rangle}{dt} = -i\\omega_g (n-m)  \\langle g,n \\mid \\rho \\mid g, m \\rangle-\\frac{i}{2} \\sum_l \\{  \\Omega^*_{n l} \\langle e,l \\mid \\rho \\mid g, m \\rangle -\\Omega_{l m} \\langle g,n \\mid \\rho \\mid e, l \\rangle \\} +\\sum_{l,f} \\Gamma_{nl, mf}\\langle e,l \\mid \\rho \\mid e, f \\rangle$\n",
    "\n",
    "$\\frac{d \\langle e,n \\mid \\rho \\mid g, m \\rangle}{dt} =  i \\omega_g (m + \\frac{1}{2})  \\langle e,n \\mid \\rho \\mid g, m \\rangle  - i \\omega_e \\{((chr^2 + shr^2) n + \\frac{1}{2} + shr^2)\\langle e,n \\mid \\rho \\mid g, m \\rangle -shrchr( \\sqrt{n(n-1)}  \\langle e,n-2 \\mid \\rho \\mid g, m \\rangle  + \\sqrt{(n+1)(n+2)}  \\langle e,n+2 \\mid \\rho \\mid g, m \\rangle )\\}   +i \\delta \\langle e,n \\mid \\rho \\mid g, m \\rangle  -\\frac{i}{2} \\sum_l \\{  \\Omega_{n l} \\langle g,l \\mid \\rho \\mid g, m \\rangle -\\Omega_{l m} \\langle e,n \\mid \\rho \\mid e, l \\rangle \\}-\\frac{\\Gamma}{2} \\{  \\langle e,n \\mid \\rho \\mid g, m \\rangle  \\}$\n",
    "\n",
    "$\\frac{d \\langle g,n \\mid \\rho \\mid e, m \\rangle}{dt} = -i \\omega_g (n + \\frac{1}{2})  \\langle g,n \\mid \\rho \\mid e, m \\rangle  + i \\omega_e \\{ ((chr^2 + shr^2) m + \\frac{1}{2} + shr^2)\\langle g,n \\mid \\rho \\mid e, m \\rangle -shrchr(\\sqrt{m(m-1)}  \\langle g,n \\mid \\rho \\mid e, m-2 \\rangle + \\sqrt{(m+1)(m+2)}  \\langle g,n \\mid \\rho \\mid e, m+2 \\rangle )\\} -i \\delta  \\langle g,n \\mid \\rho \\mid e, m \\rangle  -\\frac{i}{2} \\sum_l \\{  \\Omega^*_{n l} \\langle e,l \\mid \\rho \\mid e, m \\rangle -\\Omega^*_{l m} \\langle g,n \\mid \\rho \\mid g, l \\rangle \\}-\\frac{\\Gamma}{2}  \\{  \\langle g,n \\mid \\rho \\mid e,m \\rangle  \\}$ \n"
   ]
  },
  {
   "cell_type": "markdown",
   "metadata": {},
   "source": [
    "About how the optical Bloch equations become the magic case, anti-trapping case, and near magic-case (to first order), see pdf notes."
   ]
  },
  {
   "cell_type": "code",
   "execution_count": 20,
   "metadata": {
    "collapsed": false
   },
   "outputs": [
    {
     "name": "stdout",
     "output_type": "stream",
     "text": [
      "((0.7071067811865475+9.813077866773594e-17j), (9.813077866773594e-17+0.7071067811865475j))\n",
      "2.77555756156e-16j\n",
      "0.5j\n"
     ]
    }
   ],
   "source": [
    "# Begin the test codes #\n",
    "# Mathematical functions for complex numbers #\n",
    "from cmath import sqrt, cosh, sinh, acosh\n",
    "\n",
    "# Anti-trapping case: complex numbers involved #\n",
    "we = 0.2\n",
    "wg = 0.2 * 1j\n",
    "a = 0.5 * (we + wg) / sqrt(we * wg)\n",
    "r = acosh (a)\n",
    "b = sinh (r)\n",
    "print (a,b)\n",
    "print (a**2 + b**2)\n",
    "print (a*b)"
   ]
  },
  {
   "cell_type": "code",
   "execution_count": null,
   "metadata": {
    "collapsed": true
   },
   "outputs": [],
   "source": []
  }
 ],
 "metadata": {
  "kernelspec": {
   "display_name": "Python 2",
   "language": "python",
   "name": "python2"
  },
  "language_info": {
   "codemirror_mode": {
    "name": "ipython",
    "version": 2
   },
   "file_extension": ".py",
   "mimetype": "text/x-python",
   "name": "python",
   "nbconvert_exporter": "python",
   "pygments_lexer": "ipython2",
   "version": "2.7.6"
  }
 },
 "nbformat": 4,
 "nbformat_minor": 0
}
